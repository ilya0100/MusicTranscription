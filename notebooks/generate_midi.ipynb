{
 "cells": [
  {
   "cell_type": "code",
   "execution_count": 136,
   "metadata": {},
   "outputs": [],
   "source": [
    "import numpy as np\n",
    "import pandas as pd\n",
    "import os\n",
    "# import tensorflow as tf\n",
    "import librosa\n",
    "import note_seq\n",
    "import bokeh\n",
    "from note_seq import NoteSequence\n",
    "from typing import Iterable, List, Tuple\n",
    "from midi2audio import FluidSynth\n",
    "import fluidsynth\n",
    "\n",
    "import matplotlib.pyplot as plt"
   ]
  },
  {
   "cell_type": "code",
   "execution_count": 83,
   "metadata": {},
   "outputs": [
    {
     "data": {
      "text/plain": [
       "59.64386343211563"
      ]
     },
     "execution_count": 83,
     "metadata": {},
     "output_type": "execute_result"
    }
   ],
   "source": [
    "# np.random.uniform(1,128)"
   ]
  },
  {
   "cell_type": "code",
   "execution_count": 119,
   "metadata": {},
   "outputs": [
    {
     "data": {
      "text/html": [
       "<div class=\"bk-root\">\n",
       "        <a href=\"https://bokeh.org\" target=\"_blank\" class=\"bk-logo bk-logo-small bk-logo-notebook\"></a>\n",
       "        <span id=\"20031\">Loading BokehJS ...</span>\n",
       "    </div>\n"
      ]
     },
     "metadata": {},
     "output_type": "display_data"
    },
    {
     "data": {
      "application/javascript": "(function(root) {\n  function now() {\n    return new Date();\n  }\n\n  const force = true;\n\n  if (typeof root._bokeh_onload_callbacks === \"undefined\" || force === true) {\n    root._bokeh_onload_callbacks = [];\n    root._bokeh_is_loading = undefined;\n  }\n\nconst JS_MIME_TYPE = 'application/javascript';\n  const HTML_MIME_TYPE = 'text/html';\n  const EXEC_MIME_TYPE = 'application/vnd.bokehjs_exec.v0+json';\n  const CLASS_NAME = 'output_bokeh rendered_html';\n\n  /**\n   * Render data to the DOM node\n   */\n  function render(props, node) {\n    const script = document.createElement(\"script\");\n    node.appendChild(script);\n  }\n\n  /**\n   * Handle when an output is cleared or removed\n   */\n  function handleClearOutput(event, handle) {\n    const cell = handle.cell;\n\n    const id = cell.output_area._bokeh_element_id;\n    const server_id = cell.output_area._bokeh_server_id;\n    // Clean up Bokeh references\n    if (id != null && id in Bokeh.index) {\n      Bokeh.index[id].model.document.clear();\n      delete Bokeh.index[id];\n    }\n\n    if (server_id !== undefined) {\n      // Clean up Bokeh references\n      const cmd_clean = \"from bokeh.io.state import curstate; print(curstate().uuid_to_server['\" + server_id + \"'].get_sessions()[0].document.roots[0]._id)\";\n      cell.notebook.kernel.execute(cmd_clean, {\n        iopub: {\n          output: function(msg) {\n            const id = msg.content.text.trim();\n            if (id in Bokeh.index) {\n              Bokeh.index[id].model.document.clear();\n              delete Bokeh.index[id];\n            }\n          }\n        }\n      });\n      // Destroy server and session\n      const cmd_destroy = \"import bokeh.io.notebook as ion; ion.destroy_server('\" + server_id + \"')\";\n      cell.notebook.kernel.execute(cmd_destroy);\n    }\n  }\n\n  /**\n   * Handle when a new output is added\n   */\n  function handleAddOutput(event, handle) {\n    const output_area = handle.output_area;\n    const output = handle.output;\n\n    // limit handleAddOutput to display_data with EXEC_MIME_TYPE content only\n    if ((output.output_type != \"display_data\") || (!Object.prototype.hasOwnProperty.call(output.data, EXEC_MIME_TYPE))) {\n      return\n    }\n\n    const toinsert = output_area.element.find(\".\" + CLASS_NAME.split(' ')[0]);\n\n    if (output.metadata[EXEC_MIME_TYPE][\"id\"] !== undefined) {\n      toinsert[toinsert.length - 1].firstChild.textContent = output.data[JS_MIME_TYPE];\n      // store reference to embed id on output_area\n      output_area._bokeh_element_id = output.metadata[EXEC_MIME_TYPE][\"id\"];\n    }\n    if (output.metadata[EXEC_MIME_TYPE][\"server_id\"] !== undefined) {\n      const bk_div = document.createElement(\"div\");\n      bk_div.innerHTML = output.data[HTML_MIME_TYPE];\n      const script_attrs = bk_div.children[0].attributes;\n      for (let i = 0; i < script_attrs.length; i++) {\n        toinsert[toinsert.length - 1].firstChild.setAttribute(script_attrs[i].name, script_attrs[i].value);\n        toinsert[toinsert.length - 1].firstChild.textContent = bk_div.children[0].textContent\n      }\n      // store reference to server id on output_area\n      output_area._bokeh_server_id = output.metadata[EXEC_MIME_TYPE][\"server_id\"];\n    }\n  }\n\n  function register_renderer(events, OutputArea) {\n\n    function append_mime(data, metadata, element) {\n      // create a DOM node to render to\n      const toinsert = this.create_output_subarea(\n        metadata,\n        CLASS_NAME,\n        EXEC_MIME_TYPE\n      );\n      this.keyboard_manager.register_events(toinsert);\n      // Render to node\n      const props = {data: data, metadata: metadata[EXEC_MIME_TYPE]};\n      render(props, toinsert[toinsert.length - 1]);\n      element.append(toinsert);\n      return toinsert\n    }\n\n    /* Handle when an output is cleared or removed */\n    events.on('clear_output.CodeCell', handleClearOutput);\n    events.on('delete.Cell', handleClearOutput);\n\n    /* Handle when a new output is added */\n    events.on('output_added.OutputArea', handleAddOutput);\n\n    /**\n     * Register the mime type and append_mime function with output_area\n     */\n    OutputArea.prototype.register_mime_type(EXEC_MIME_TYPE, append_mime, {\n      /* Is output safe? */\n      safe: true,\n      /* Index of renderer in `output_area.display_order` */\n      index: 0\n    });\n  }\n\n  // register the mime type if in Jupyter Notebook environment and previously unregistered\n  if (root.Jupyter !== undefined) {\n    const events = require('base/js/events');\n    const OutputArea = require('notebook/js/outputarea').OutputArea;\n\n    if (OutputArea.prototype.mime_types().indexOf(EXEC_MIME_TYPE) == -1) {\n      register_renderer(events, OutputArea);\n    }\n  }\n  if (typeof (root._bokeh_timeout) === \"undefined\" || force === true) {\n    root._bokeh_timeout = Date.now() + 5000;\n    root._bokeh_failed_load = false;\n  }\n\n  const NB_LOAD_WARNING = {'data': {'text/html':\n     \"<div style='background-color: #fdd'>\\n\"+\n     \"<p>\\n\"+\n     \"BokehJS does not appear to have successfully loaded. If loading BokehJS from CDN, this \\n\"+\n     \"may be due to a slow or bad network connection. Possible fixes:\\n\"+\n     \"</p>\\n\"+\n     \"<ul>\\n\"+\n     \"<li>re-rerun `output_notebook()` to attempt to load from CDN again, or</li>\\n\"+\n     \"<li>use INLINE resources instead, as so:</li>\\n\"+\n     \"</ul>\\n\"+\n     \"<code>\\n\"+\n     \"from bokeh.resources import INLINE\\n\"+\n     \"output_notebook(resources=INLINE)\\n\"+\n     \"</code>\\n\"+\n     \"</div>\"}};\n\n  function display_loaded() {\n    const el = document.getElementById(\"20031\");\n    if (el != null) {\n      el.textContent = \"BokehJS is loading...\";\n    }\n    if (root.Bokeh !== undefined) {\n      if (el != null) {\n        el.textContent = \"BokehJS \" + root.Bokeh.version + \" successfully loaded.\";\n      }\n    } else if (Date.now() < root._bokeh_timeout) {\n      setTimeout(display_loaded, 100)\n    }\n  }\n\n  function run_callbacks() {\n    try {\n      root._bokeh_onload_callbacks.forEach(function(callback) {\n        if (callback != null)\n          callback();\n      });\n    } finally {\n      delete root._bokeh_onload_callbacks\n    }\n    console.debug(\"Bokeh: all callbacks have finished\");\n  }\n\n  function load_libs(css_urls, js_urls, callback) {\n    if (css_urls == null) css_urls = [];\n    if (js_urls == null) js_urls = [];\n\n    root._bokeh_onload_callbacks.push(callback);\n    if (root._bokeh_is_loading > 0) {\n      console.debug(\"Bokeh: BokehJS is being loaded, scheduling callback at\", now());\n      return null;\n    }\n    if (js_urls == null || js_urls.length === 0) {\n      run_callbacks();\n      return null;\n    }\n    console.debug(\"Bokeh: BokehJS not loaded, scheduling load and callback at\", now());\n    root._bokeh_is_loading = css_urls.length + js_urls.length;\n\n    function on_load() {\n      root._bokeh_is_loading--;\n      if (root._bokeh_is_loading === 0) {\n        console.debug(\"Bokeh: all BokehJS libraries/stylesheets loaded\");\n        run_callbacks()\n      }\n    }\n\n    function on_error(url) {\n      console.error(\"failed to load \" + url);\n    }\n\n    for (let i = 0; i < css_urls.length; i++) {\n      const url = css_urls[i];\n      const element = document.createElement(\"link\");\n      element.onload = on_load;\n      element.onerror = on_error.bind(null, url);\n      element.rel = \"stylesheet\";\n      element.type = \"text/css\";\n      element.href = url;\n      console.debug(\"Bokeh: injecting link tag for BokehJS stylesheet: \", url);\n      document.body.appendChild(element);\n    }\n\n    for (let i = 0; i < js_urls.length; i++) {\n      const url = js_urls[i];\n      const element = document.createElement('script');\n      element.onload = on_load;\n      element.onerror = on_error.bind(null, url);\n      element.async = false;\n      element.src = url;\n      console.debug(\"Bokeh: injecting script tag for BokehJS library: \", url);\n      document.head.appendChild(element);\n    }\n  };\n\n  function inject_raw_css(css) {\n    const element = document.createElement(\"style\");\n    element.appendChild(document.createTextNode(css));\n    document.body.appendChild(element);\n  }\n\n  const js_urls = [\"https://cdn.bokeh.org/bokeh/release/bokeh-2.4.3.min.js\", \"https://cdn.bokeh.org/bokeh/release/bokeh-gl-2.4.3.min.js\", \"https://cdn.bokeh.org/bokeh/release/bokeh-widgets-2.4.3.min.js\", \"https://cdn.bokeh.org/bokeh/release/bokeh-tables-2.4.3.min.js\", \"https://cdn.bokeh.org/bokeh/release/bokeh-mathjax-2.4.3.min.js\"];\n  const css_urls = [];\n\n  const inline_js = [    function(Bokeh) {\n      Bokeh.set_log_level(\"info\");\n    },\nfunction(Bokeh) {\n    }\n  ];\n\n  function run_inline_js() {\n    if (root.Bokeh !== undefined || force === true) {\n          for (let i = 0; i < inline_js.length; i++) {\n      inline_js[i].call(root, root.Bokeh);\n    }\nif (force === true) {\n        display_loaded();\n      }} else if (Date.now() < root._bokeh_timeout) {\n      setTimeout(run_inline_js, 100);\n    } else if (!root._bokeh_failed_load) {\n      console.log(\"Bokeh: BokehJS failed to load within specified timeout.\");\n      root._bokeh_failed_load = true;\n    } else if (force !== true) {\n      const cell = $(document.getElementById(\"20031\")).parents('.cell').data().cell;\n      cell.output_area.append_execute_result(NB_LOAD_WARNING)\n    }\n  }\n\n  if (root._bokeh_is_loading === 0) {\n    console.debug(\"Bokeh: BokehJS loaded, going straight to plotting\");\n    run_inline_js();\n  } else {\n    load_libs(css_urls, js_urls, function() {\n      console.debug(\"Bokeh: BokehJS plotting callback run at\", now());\n      run_inline_js();\n    });\n  }\n}(window));",
      "application/vnd.bokehjs_load.v0+json": ""
     },
     "metadata": {},
     "output_type": "display_data"
    },
    {
     "data": {
      "text/html": [
       "\n",
       "  <div class=\"bk-root\" id=\"30ea3861-6f47-4164-b9bb-fca10263f17c\" data-root-id=\"19982\"></div>\n"
      ]
     },
     "metadata": {},
     "output_type": "display_data"
    },
    {
     "data": {
      "application/javascript": "(function(root) {\n  function embed_document(root) {\n  const docs_json = {\"83eb6690-298f-4a6b-b898-919ab73582e2\":{\"defs\":[],\"roots\":{\"references\":[{\"attributes\":{\"below\":[{\"id\":\"19991\"}],\"center\":[{\"id\":\"19994\"},{\"id\":\"19998\"}],\"height\":200,\"left\":[{\"id\":\"19995\"}],\"renderers\":[{\"id\":\"20019\"}],\"title\":{\"id\":\"20021\"},\"toolbar\":{\"id\":\"20005\"},\"width\":500,\"x_range\":{\"id\":\"19983\"},\"x_scale\":{\"id\":\"19987\"},\"y_range\":{\"id\":\"19985\"},\"y_scale\":{\"id\":\"19989\"}},\"id\":\"19982\",\"subtype\":\"Figure\",\"type\":\"Plot\"},{\"attributes\":{\"source\":{\"id\":\"20014\"}},\"id\":\"20020\",\"type\":\"CDSView\"},{\"attributes\":{\"overlay\":{\"id\":\"20004\"}},\"id\":\"20001\",\"type\":\"BoxZoomTool\"},{\"attributes\":{},\"id\":\"20028\",\"type\":\"UnionRenderers\"},{\"attributes\":{\"bottom_units\":\"screen\",\"coordinates\":null,\"fill_alpha\":0.5,\"fill_color\":\"lightgrey\",\"group\":null,\"left_units\":\"screen\",\"level\":\"overlay\",\"line_alpha\":1.0,\"line_color\":\"black\",\"line_dash\":[4,4],\"line_width\":2,\"right_units\":\"screen\",\"syncable\":false,\"top_units\":\"screen\"},\"id\":\"20004\",\"type\":\"BoxAnnotation\"},{\"attributes\":{\"bottom\":{\"field\":\"bottom\"},\"fill_alpha\":{\"value\":0.2},\"fill_color\":{\"value\":\"#d53e4f\"},\"hatch_alpha\":{\"value\":0.2},\"left\":{\"field\":\"start_time\"},\"line_alpha\":{\"value\":0.2},\"right\":{\"field\":\"end_time\"},\"top\":{\"field\":\"top\"}},\"id\":\"20018\",\"type\":\"Quad\"},{\"attributes\":{\"bottom\":{\"field\":\"bottom\"},\"fill_alpha\":{\"value\":0.1},\"fill_color\":{\"value\":\"#d53e4f\"},\"hatch_alpha\":{\"value\":0.1},\"left\":{\"field\":\"start_time\"},\"line_alpha\":{\"value\":0.1},\"right\":{\"field\":\"end_time\"},\"top\":{\"field\":\"top\"}},\"id\":\"20017\",\"type\":\"Quad\"},{\"attributes\":{},\"id\":\"20027\",\"type\":\"AllLabels\"},{\"attributes\":{\"interval\":12},\"id\":\"20013\",\"type\":\"SingleIntervalTicker\"},{\"attributes\":{},\"id\":\"19989\",\"type\":\"LinearScale\"},{\"attributes\":{\"interval\":12},\"id\":\"20011\",\"type\":\"SingleIntervalTicker\"},{\"attributes\":{\"callback\":null,\"tooltips\":[[\"pitch\",\"@pitch\"],[\"program\",\"@program\"],[\"velo\",\"@velocity\"],[\"duration\",\"@duration\"],[\"start_time\",\"@start_time\"],[\"end_time\",\"@end_time\"],[\"velocity\",\"@velocity\"],[\"fill_alpha\",\"@fill_alpha\"]]},\"id\":\"19999\",\"type\":\"HoverTool\"},{\"attributes\":{},\"id\":\"20026\",\"type\":\"BasicTickFormatter\"},{\"attributes\":{},\"id\":\"20024\",\"type\":\"AllLabels\"},{\"attributes\":{\"axis\":{\"id\":\"19995\"},\"coordinates\":null,\"dimension\":1,\"group\":null,\"ticker\":{\"id\":\"20013\"}},\"id\":\"19998\",\"type\":\"Grid\"},{\"attributes\":{\"axis_label\":\"pitch (MIDI)\",\"coordinates\":null,\"formatter\":{\"id\":\"20023\"},\"group\":null,\"major_label_policy\":{\"id\":\"20024\"},\"ticker\":{\"id\":\"20011\"}},\"id\":\"19995\",\"type\":\"LinearAxis\"},{\"attributes\":{},\"id\":\"20023\",\"type\":\"BasicTickFormatter\"},{\"attributes\":{},\"id\":\"20002\",\"type\":\"ResetTool\"},{\"attributes\":{\"axis\":{\"id\":\"19991\"},\"coordinates\":null,\"group\":null,\"ticker\":null},\"id\":\"19994\",\"type\":\"Grid\"},{\"attributes\":{},\"id\":\"19983\",\"type\":\"DataRange1d\"},{\"attributes\":{\"coordinates\":null,\"data_source\":{\"id\":\"20014\"},\"glyph\":{\"id\":\"20016\"},\"group\":null,\"hover_glyph\":null,\"muted_glyph\":{\"id\":\"20018\"},\"nonselection_glyph\":{\"id\":\"20017\"},\"view\":{\"id\":\"20020\"}},\"id\":\"20019\",\"type\":\"GlyphRenderer\"},{\"attributes\":{},\"id\":\"20003\",\"type\":\"SaveTool\"},{\"attributes\":{\"data\":{\"bottom\":{\"__ndarray__\":\"ZmZmZmYmUEBmZmZmZqZQQGZmZmZm5lNAZmZmZmbmUkDNzMzMzExCQJqZmZmZmT9AZmZmZmZmU0BmZmZmZmZXQM3MzMzMTEhAmpmZmZmZPUCamZmZmZk5QGZmZmZmZlpAMzMzMzMzLUCamZmZmZk2QGZmZmZmJlNAMzMzMzMz4z/NzMzMzMxKQGZmZmZmZh5AZmZmZmYmVUBmZmZmZiZVQDMzMzMzMylAmpmZmZmZOECamZmZmZk4QM3MzMzMzAxAmpmZmZmZOUBmZmZmZqZVQM3MzMzMTEFAMzMzMzMzJ0BmZmZmZmZRQA==\",\"dtype\":\"float64\",\"order\":\"little\",\"shape\":[29]},\"duration\":{\"__ndarray__\":\"yAiQGsIJIEDGRu0BqocFQCCvY78c+xVAEIY7zbC0AEBMU/lAPmMmQFCgAFye1BZAwIpq43a0JECAMiAlcT3wP0CG4FHg7wNAOPKgx9l4KUBYOUVi4dkbQFCT3WebBAdAUOAyeoUTJkBgGa9cUKQYQHhsGgbswxFAWLu1nsGkJEAQ+LDLIgQaQJCt4lar4SNAoJbFAoOa8z9ARzqz0TMXQOhtJKZIvypASOTOB8tYI0AQu9+6Zj8hQDgffmseoSBAAAAAAAAAJEAAAAAAAAAkQGBjQhAb8g9AAAAAAAAAJEAAjIvJK24eQA==\",\"dtype\":\"float64\",\"order\":\"little\",\"shape\":[29]},\"end_time\":{\"__ndarray__\":\"yAiQGsIJIEDGRu0BqocFQMjr2C/HfjRAwnCnGZYWMUCmqXwgnzE6QAoUgMuT2kFAsKLauB0tREAoA1IS1wM/QGQIHgX+PkBAjjzocTZeRUArp0gsPPtJQDXZfbZJ8EdAFLiMXuEETEAs45ULipRJQI9Nw4B9uEhA1m6tZzCpS0CBD7ssQqBQQLJV3Go1fFFAtSwWGNScTkB0pDMbPXNQQL2NxBTpV1JAidz5YBkrVUBi91vX7OdUQOfDb80j1FRAAAAAAAAAWUAAAAAAAABZQBsTgtiQf1dAAAAAAAAAWUDAuJi84mZYQA==\",\"dtype\":\"float64\",\"order\":\"little\",\"shape\":[29]},\"fill_alpha\":{\"__ndarray__\":\"AAAAAACA7D8AAAAAAIDmPwAAAAAAgOU/AAAAAAAAyj8AAAAAAADoPwAAAAAAgOQ/AAAAAAAA3z8AAAAAAADvPwAAAAAAgOQ/AAAAAAAA4D8AAAAAAMDtPwAAAAAAANo/AAAAAAAA1D8AAAAAAADbPwAAAAAAgOA/AAAAAAAArD8AAAAAAADHPwAAAAAAQOY/AAAAAABA5T8AAAAAAADuPwAAAAAAANg/AAAAAAAA2D8AAAAAAIDcPwAAAAAAgOg/AAAAAAAA6T8AAAAAAIDePwAAAAAAAO0/AAAAAAAA6j8AAAAAAMDiPw==\",\"dtype\":\"float64\",\"order\":\"little\",\"shape\":[29]},\"index\":[0,1,2,3,4,5,6,7,8,9,10,11,12,13,14,15,16,17,18,19,20,21,22,23,24,25,26,27,28],\"instrument\":[0,0,0,0,0,0,0,0,0,0,0,0,0,0,0,0,0,0,0,0,0,0,0,0,0,0,0,0,0],\"pitch\":[65,67,80,76,37,32,78,94,49,30,26,106,15,23,77,1,54,8,85,85,13,25,25,4,26,87,35,12,70],\"program\":[0,0,0,0,0,0,0,0,0,0,0,0,0,0,0,0,0,0,0,0,0,0,0,0,0,0,0,0,0],\"start_time\":{\"__ndarray__\":\"AAAAAAAAAAAAAAAAAAAAAAAAAAAAAC5AAAAAAAAALkAAAAAAAAAuQAAAAAAAAD5AAAAAAAAAPkAAAAAAAAA+QAAAAAAAAD5AAAAAAAAAPkAAAAAAAIBGQAAAAAAAgEZAAAAAAACARkAAAAAAAIBGQAAAAAAAgEZAAAAAAACARkAAAAAAAABOQAAAAAAAAE5AAAAAAAAATkAAAAAAAABOQAAAAAAAAE5AAAAAAADAUkAAAAAAAMBSQAAAAAAAwFJAAAAAAACAVkAAAAAAAIBWQAAAAAAAgFZAAAAAAACAVkAAAAAAAIBWQA==\",\"dtype\":\"float64\",\"order\":\"little\",\"shape\":[29]},\"top\":{\"__ndarray__\":\"mpmZmZlZUECamZmZmdlQQJqZmZmZGVRAmpmZmZkZU0AzMzMzM7NCQDMzMzMzM0BAmpmZmZmZU0CamZmZmZlXQDMzMzMzs0hAZmZmZmZmPkBmZmZmZmY6QJqZmZmZmVpAzczMzMzMLkBmZmZmZmY3QJqZmZmZWVNAZmZmZmZm9j8zMzMzMzNLQM3MzMzMzCBAmpmZmZlZVUCamZmZmVlVQM3MzMzMzCpAZmZmZmZmOUBmZmZmZmY5QJqZmZmZmRFAZmZmZmZmOkCamZmZmdlVQDMzMzMzs0FAzczMzMzMKECamZmZmZlRQA==\",\"dtype\":\"float64\",\"order\":\"little\",\"shape\":[29]},\"velocity\":[114,90,86,26,96,82,62,124,82,64,119,52,40,54,66,7,23,89,85,120,48,48,57,98,100,61,116,104,75]},\"selected\":{\"id\":\"20029\"},\"selection_policy\":{\"id\":\"20028\"}},\"id\":\"20014\",\"type\":\"ColumnDataSource\"},{\"attributes\":{},\"id\":\"19992\",\"type\":\"BasicTicker\"},{\"attributes\":{},\"id\":\"20029\",\"type\":\"Selection\"},{\"attributes\":{},\"id\":\"19985\",\"type\":\"DataRange1d\"},{\"attributes\":{},\"id\":\"19987\",\"type\":\"LinearScale\"},{\"attributes\":{\"tools\":[{\"id\":\"19999\"},{\"id\":\"20000\"},{\"id\":\"20001\"},{\"id\":\"20002\"},{\"id\":\"20003\"}]},\"id\":\"20005\",\"type\":\"Toolbar\"},{\"attributes\":{},\"id\":\"20000\",\"type\":\"PanTool\"},{\"attributes\":{\"axis_label\":\"time (sec)\",\"coordinates\":null,\"formatter\":{\"id\":\"20026\"},\"group\":null,\"major_label_policy\":{\"id\":\"20027\"},\"ticker\":{\"id\":\"19992\"}},\"id\":\"19991\",\"type\":\"LinearAxis\"},{\"attributes\":{\"bottom\":{\"field\":\"bottom\"},\"fill_alpha\":{\"field\":\"fill_alpha\"},\"fill_color\":{\"value\":\"#d53e4f\"},\"left\":{\"field\":\"start_time\"},\"right\":{\"field\":\"end_time\"},\"top\":{\"field\":\"top\"}},\"id\":\"20016\",\"type\":\"Quad\"},{\"attributes\":{\"coordinates\":null,\"group\":null},\"id\":\"20021\",\"type\":\"Title\"}],\"root_ids\":[\"19982\"]},\"title\":\"Bokeh Application\",\"version\":\"2.4.3\"}};\n  const render_items = [{\"docid\":\"83eb6690-298f-4a6b-b898-919ab73582e2\",\"root_ids\":[\"19982\"],\"roots\":{\"19982\":\"30ea3861-6f47-4164-b9bb-fca10263f17c\"}}];\n  root.Bokeh.embed.embed_items_notebook(docs_json, render_items);\n  }\n  if (root.Bokeh !== undefined) {\n    embed_document(root);\n  } else {\n    let attempts = 0;\n    const timer = setInterval(function(root) {\n      if (root.Bokeh !== undefined) {\n        clearInterval(timer);\n        embed_document(root);\n      } else {\n        attempts++;\n        if (attempts > 100) {\n          clearInterval(timer);\n          console.log(\"Bokeh: ERROR: Unable to run BokehJS code because BokehJS library is missing\");\n        }\n      }\n    }, 10, root)\n  }\n})(window);",
      "application/vnd.bokehjs_exec.v0+json": ""
     },
     "metadata": {
      "application/vnd.bokehjs_exec.v0+json": {
       "id": "19982"
      }
     },
     "output_type": "display_data"
    }
   ],
   "source": [
    "def gen_uni_notesequence(duration: int, time_step: int, max_num_pitches: int) -> List:\n",
    "    ns = NoteSequence()\n",
    "    num_parts = duration / time_step\n",
    "\n",
    "    for i in np.arange(num_parts):\n",
    "\n",
    "        for _ in np.arange(np.random.choice(max_num_pitches)):\n",
    "            start_time = time_step * i\n",
    "            end_time = start_time + np.random.uniform(0, time_step)\n",
    "            end_time = end_time if end_time <= 100 else 100\n",
    "\n",
    "            ns.notes.append(\n",
    "                NoteSequence.Note(\n",
    "                    pitch=np.random.choice(128),\n",
    "                    velocity=np.random.choice(np.arange(1,128)),\n",
    "                    start_time=start_time,\n",
    "                    end_time=end_time,\n",
    "                )\n",
    "            )\n",
    "\n",
    "    return ns\n",
    "\n",
    "\n",
    "gen_midi = gen_uni_notesequence(duration=100, time_step=15, max_num_pitches=10)\n",
    "note_seq.plot_sequence(gen_midi)"
   ]
  },
  {
   "cell_type": "code",
   "execution_count": 125,
   "metadata": {},
   "outputs": [
    {
     "data": {
      "text/html": [
       "<div>\n",
       "<style scoped>\n",
       "    .dataframe tbody tr th:only-of-type {\n",
       "        vertical-align: middle;\n",
       "    }\n",
       "\n",
       "    .dataframe tbody tr th {\n",
       "        vertical-align: top;\n",
       "    }\n",
       "\n",
       "    .dataframe thead th {\n",
       "        text-align: right;\n",
       "    }\n",
       "</style>\n",
       "<table border=\"1\" class=\"dataframe\">\n",
       "  <thead>\n",
       "    <tr style=\"text-align: right;\">\n",
       "      <th></th>\n",
       "      <th>midi_filename</th>\n",
       "      <th>audio_filename</th>\n",
       "    </tr>\n",
       "  </thead>\n",
       "  <tbody>\n",
       "  </tbody>\n",
       "</table>\n",
       "</div>"
      ],
      "text/plain": [
       "Empty DataFrame\n",
       "Columns: [midi_filename, audio_filename]\n",
       "Index: []"
      ]
     },
     "execution_count": 125,
     "metadata": {},
     "output_type": "execute_result"
    }
   ],
   "source": [
    "# note_seq.note_sequence_to_midi_file(gen_midi, \"./test_midi.mid\")\n",
    "\n",
    "features = [\"midi_filename\", \"audio_filename\"]\n",
    "df = pd.DataFrame(columns=features)\n",
    "df"
   ]
  },
  {
   "cell_type": "code",
   "execution_count": 139,
   "metadata": {},
   "outputs": [
    {
     "name": "stdout",
     "output_type": "stream",
     "text": [
      "  midi_filename audio_filename\n",
      "0    midi_0.mid    audio_0.wav\n",
      "1    midi_1.mid    audio_1.wav\n",
      "2    midi_2.mid    audio_2.wav\n"
     ]
    }
   ],
   "source": [
    "# midi_filename,audio_filename\n",
    "\n",
    "\n",
    "def gen_synthetic_data(output_dir: str):\n",
    "\n",
    "    os.makedirs(output_dir, exist_ok=True)\n",
    "\n",
    "    path_gen_cvs = os.path.join(output_dir, \"my_synthetic.csv\")\n",
    "\n",
    "    features = [\"midi_filename\", \"audio_filename\"]\n",
    "    df = pd.DataFrame(columns=features)\n",
    "\n",
    "    # fs = FluidSynth()\n",
    "\n",
    "    midi_lst = []\n",
    "    audio_lst = []\n",
    "    for i in np.arange(3):\n",
    "        gen_uni_ns = gen_uni_notesequence(duration=18, time_step=2, max_num_pitches=10)\n",
    "        note_seq.note_sequence_to_midi_file(gen_uni_ns, f\"{output_dir}/midi_{i}.mid\")\n",
    "        # fs.midi_to_audio(f\"{output_dir}/midi_{i}.mid\", f\"{output_dir}/audio_{i}.wav\")\n",
    "        midi_lst.append(f\"midi_{i}.mid\")\n",
    "        audio_lst.append(f\"audio_{i}.wav\")\n",
    "    \n",
    "    df[\"midi_filename\"] = midi_lst\n",
    "    df[\"audio_filename\"] = audio_lst\n",
    "\n",
    "    df.to_csv(os.path.join(output_dir, \"my_synthetic.csv\"), index=False)\n",
    "    \n",
    "\n",
    "    print(df)\n",
    "\n",
    "\n",
    "\n",
    "output_dir = \"/home/sibwa19/documents/main_course/second/project/MusicTranscription/data/synthetic/2022\"\n",
    "\n",
    "gen_synthetic_data(output_dir)"
   ]
  }
 ],
 "metadata": {
  "kernelspec": {
   "display_name": ".venv",
   "language": "python",
   "name": "python3"
  },
  "language_info": {
   "codemirror_mode": {
    "name": "ipython",
    "version": 3
   },
   "file_extension": ".py",
   "mimetype": "text/x-python",
   "name": "python",
   "nbconvert_exporter": "python",
   "pygments_lexer": "ipython3",
   "version": "3.8.10 (default, Jun 22 2022, 20:18:18) \n[GCC 9.4.0]"
  },
  "orig_nbformat": 4,
  "vscode": {
   "interpreter": {
    "hash": "5b46d9087df5f64e4c0ede7fffb89a5cd344dc6a2d6e7400fc964093bc35f3d9"
   }
  }
 },
 "nbformat": 4,
 "nbformat_minor": 2
}
