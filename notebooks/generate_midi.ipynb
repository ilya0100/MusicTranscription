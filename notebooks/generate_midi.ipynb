{
 "cells": [
  {
   "cell_type": "code",
   "execution_count": 2,
   "metadata": {},
   "outputs": [],
   "source": [
    "import numpy as np\n",
    "# import tensorflow as tf\n",
    "import librosa\n",
    "import note_seq\n",
    "import bokeh\n",
    "from note_seq import NoteSequence\n",
    "from typing import Iterable, List, Tuple\n",
    "\n",
    "\n",
    "import matplotlib.pyplot as plt"
   ]
  },
  {
   "cell_type": "code",
   "execution_count": 23,
   "metadata": {},
   "outputs": [
    {
     "data": {
      "text/html": [
       "<div class=\"bk-root\">\n",
       "        <a href=\"https://bokeh.org\" target=\"_blank\" class=\"bk-logo bk-logo-small bk-logo-notebook\"></a>\n",
       "        <span id=\"1411\">Loading BokehJS ...</span>\n",
       "    </div>\n"
      ]
     },
     "metadata": {},
     "output_type": "display_data"
    },
    {
     "data": {
      "application/javascript": "(function(root) {\n  function now() {\n    return new Date();\n  }\n\n  const force = true;\n\n  if (typeof root._bokeh_onload_callbacks === \"undefined\" || force === true) {\n    root._bokeh_onload_callbacks = [];\n    root._bokeh_is_loading = undefined;\n  }\n\nconst JS_MIME_TYPE = 'application/javascript';\n  const HTML_MIME_TYPE = 'text/html';\n  const EXEC_MIME_TYPE = 'application/vnd.bokehjs_exec.v0+json';\n  const CLASS_NAME = 'output_bokeh rendered_html';\n\n  /**\n   * Render data to the DOM node\n   */\n  function render(props, node) {\n    const script = document.createElement(\"script\");\n    node.appendChild(script);\n  }\n\n  /**\n   * Handle when an output is cleared or removed\n   */\n  function handleClearOutput(event, handle) {\n    const cell = handle.cell;\n\n    const id = cell.output_area._bokeh_element_id;\n    const server_id = cell.output_area._bokeh_server_id;\n    // Clean up Bokeh references\n    if (id != null && id in Bokeh.index) {\n      Bokeh.index[id].model.document.clear();\n      delete Bokeh.index[id];\n    }\n\n    if (server_id !== undefined) {\n      // Clean up Bokeh references\n      const cmd_clean = \"from bokeh.io.state import curstate; print(curstate().uuid_to_server['\" + server_id + \"'].get_sessions()[0].document.roots[0]._id)\";\n      cell.notebook.kernel.execute(cmd_clean, {\n        iopub: {\n          output: function(msg) {\n            const id = msg.content.text.trim();\n            if (id in Bokeh.index) {\n              Bokeh.index[id].model.document.clear();\n              delete Bokeh.index[id];\n            }\n          }\n        }\n      });\n      // Destroy server and session\n      const cmd_destroy = \"import bokeh.io.notebook as ion; ion.destroy_server('\" + server_id + \"')\";\n      cell.notebook.kernel.execute(cmd_destroy);\n    }\n  }\n\n  /**\n   * Handle when a new output is added\n   */\n  function handleAddOutput(event, handle) {\n    const output_area = handle.output_area;\n    const output = handle.output;\n\n    // limit handleAddOutput to display_data with EXEC_MIME_TYPE content only\n    if ((output.output_type != \"display_data\") || (!Object.prototype.hasOwnProperty.call(output.data, EXEC_MIME_TYPE))) {\n      return\n    }\n\n    const toinsert = output_area.element.find(\".\" + CLASS_NAME.split(' ')[0]);\n\n    if (output.metadata[EXEC_MIME_TYPE][\"id\"] !== undefined) {\n      toinsert[toinsert.length - 1].firstChild.textContent = output.data[JS_MIME_TYPE];\n      // store reference to embed id on output_area\n      output_area._bokeh_element_id = output.metadata[EXEC_MIME_TYPE][\"id\"];\n    }\n    if (output.metadata[EXEC_MIME_TYPE][\"server_id\"] !== undefined) {\n      const bk_div = document.createElement(\"div\");\n      bk_div.innerHTML = output.data[HTML_MIME_TYPE];\n      const script_attrs = bk_div.children[0].attributes;\n      for (let i = 0; i < script_attrs.length; i++) {\n        toinsert[toinsert.length - 1].firstChild.setAttribute(script_attrs[i].name, script_attrs[i].value);\n        toinsert[toinsert.length - 1].firstChild.textContent = bk_div.children[0].textContent\n      }\n      // store reference to server id on output_area\n      output_area._bokeh_server_id = output.metadata[EXEC_MIME_TYPE][\"server_id\"];\n    }\n  }\n\n  function register_renderer(events, OutputArea) {\n\n    function append_mime(data, metadata, element) {\n      // create a DOM node to render to\n      const toinsert = this.create_output_subarea(\n        metadata,\n        CLASS_NAME,\n        EXEC_MIME_TYPE\n      );\n      this.keyboard_manager.register_events(toinsert);\n      // Render to node\n      const props = {data: data, metadata: metadata[EXEC_MIME_TYPE]};\n      render(props, toinsert[toinsert.length - 1]);\n      element.append(toinsert);\n      return toinsert\n    }\n\n    /* Handle when an output is cleared or removed */\n    events.on('clear_output.CodeCell', handleClearOutput);\n    events.on('delete.Cell', handleClearOutput);\n\n    /* Handle when a new output is added */\n    events.on('output_added.OutputArea', handleAddOutput);\n\n    /**\n     * Register the mime type and append_mime function with output_area\n     */\n    OutputArea.prototype.register_mime_type(EXEC_MIME_TYPE, append_mime, {\n      /* Is output safe? */\n      safe: true,\n      /* Index of renderer in `output_area.display_order` */\n      index: 0\n    });\n  }\n\n  // register the mime type if in Jupyter Notebook environment and previously unregistered\n  if (root.Jupyter !== undefined) {\n    const events = require('base/js/events');\n    const OutputArea = require('notebook/js/outputarea').OutputArea;\n\n    if (OutputArea.prototype.mime_types().indexOf(EXEC_MIME_TYPE) == -1) {\n      register_renderer(events, OutputArea);\n    }\n  }\n  if (typeof (root._bokeh_timeout) === \"undefined\" || force === true) {\n    root._bokeh_timeout = Date.now() + 5000;\n    root._bokeh_failed_load = false;\n  }\n\n  const NB_LOAD_WARNING = {'data': {'text/html':\n     \"<div style='background-color: #fdd'>\\n\"+\n     \"<p>\\n\"+\n     \"BokehJS does not appear to have successfully loaded. If loading BokehJS from CDN, this \\n\"+\n     \"may be due to a slow or bad network connection. Possible fixes:\\n\"+\n     \"</p>\\n\"+\n     \"<ul>\\n\"+\n     \"<li>re-rerun `output_notebook()` to attempt to load from CDN again, or</li>\\n\"+\n     \"<li>use INLINE resources instead, as so:</li>\\n\"+\n     \"</ul>\\n\"+\n     \"<code>\\n\"+\n     \"from bokeh.resources import INLINE\\n\"+\n     \"output_notebook(resources=INLINE)\\n\"+\n     \"</code>\\n\"+\n     \"</div>\"}};\n\n  function display_loaded() {\n    const el = document.getElementById(\"1411\");\n    if (el != null) {\n      el.textContent = \"BokehJS is loading...\";\n    }\n    if (root.Bokeh !== undefined) {\n      if (el != null) {\n        el.textContent = \"BokehJS \" + root.Bokeh.version + \" successfully loaded.\";\n      }\n    } else if (Date.now() < root._bokeh_timeout) {\n      setTimeout(display_loaded, 100)\n    }\n  }\n\n  function run_callbacks() {\n    try {\n      root._bokeh_onload_callbacks.forEach(function(callback) {\n        if (callback != null)\n          callback();\n      });\n    } finally {\n      delete root._bokeh_onload_callbacks\n    }\n    console.debug(\"Bokeh: all callbacks have finished\");\n  }\n\n  function load_libs(css_urls, js_urls, callback) {\n    if (css_urls == null) css_urls = [];\n    if (js_urls == null) js_urls = [];\n\n    root._bokeh_onload_callbacks.push(callback);\n    if (root._bokeh_is_loading > 0) {\n      console.debug(\"Bokeh: BokehJS is being loaded, scheduling callback at\", now());\n      return null;\n    }\n    if (js_urls == null || js_urls.length === 0) {\n      run_callbacks();\n      return null;\n    }\n    console.debug(\"Bokeh: BokehJS not loaded, scheduling load and callback at\", now());\n    root._bokeh_is_loading = css_urls.length + js_urls.length;\n\n    function on_load() {\n      root._bokeh_is_loading--;\n      if (root._bokeh_is_loading === 0) {\n        console.debug(\"Bokeh: all BokehJS libraries/stylesheets loaded\");\n        run_callbacks()\n      }\n    }\n\n    function on_error(url) {\n      console.error(\"failed to load \" + url);\n    }\n\n    for (let i = 0; i < css_urls.length; i++) {\n      const url = css_urls[i];\n      const element = document.createElement(\"link\");\n      element.onload = on_load;\n      element.onerror = on_error.bind(null, url);\n      element.rel = \"stylesheet\";\n      element.type = \"text/css\";\n      element.href = url;\n      console.debug(\"Bokeh: injecting link tag for BokehJS stylesheet: \", url);\n      document.body.appendChild(element);\n    }\n\n    for (let i = 0; i < js_urls.length; i++) {\n      const url = js_urls[i];\n      const element = document.createElement('script');\n      element.onload = on_load;\n      element.onerror = on_error.bind(null, url);\n      element.async = false;\n      element.src = url;\n      console.debug(\"Bokeh: injecting script tag for BokehJS library: \", url);\n      document.head.appendChild(element);\n    }\n  };\n\n  function inject_raw_css(css) {\n    const element = document.createElement(\"style\");\n    element.appendChild(document.createTextNode(css));\n    document.body.appendChild(element);\n  }\n\n  const js_urls = [\"https://cdn.bokeh.org/bokeh/release/bokeh-2.4.3.min.js\", \"https://cdn.bokeh.org/bokeh/release/bokeh-gl-2.4.3.min.js\", \"https://cdn.bokeh.org/bokeh/release/bokeh-widgets-2.4.3.min.js\", \"https://cdn.bokeh.org/bokeh/release/bokeh-tables-2.4.3.min.js\", \"https://cdn.bokeh.org/bokeh/release/bokeh-mathjax-2.4.3.min.js\"];\n  const css_urls = [];\n\n  const inline_js = [    function(Bokeh) {\n      Bokeh.set_log_level(\"info\");\n    },\nfunction(Bokeh) {\n    }\n  ];\n\n  function run_inline_js() {\n    if (root.Bokeh !== undefined || force === true) {\n          for (let i = 0; i < inline_js.length; i++) {\n      inline_js[i].call(root, root.Bokeh);\n    }\nif (force === true) {\n        display_loaded();\n      }} else if (Date.now() < root._bokeh_timeout) {\n      setTimeout(run_inline_js, 100);\n    } else if (!root._bokeh_failed_load) {\n      console.log(\"Bokeh: BokehJS failed to load within specified timeout.\");\n      root._bokeh_failed_load = true;\n    } else if (force !== true) {\n      const cell = $(document.getElementById(\"1411\")).parents('.cell').data().cell;\n      cell.output_area.append_execute_result(NB_LOAD_WARNING)\n    }\n  }\n\n  if (root._bokeh_is_loading === 0) {\n    console.debug(\"Bokeh: BokehJS loaded, going straight to plotting\");\n    run_inline_js();\n  } else {\n    load_libs(css_urls, js_urls, function() {\n      console.debug(\"Bokeh: BokehJS plotting callback run at\", now());\n      run_inline_js();\n    });\n  }\n}(window));",
      "application/vnd.bokehjs_load.v0+json": ""
     },
     "metadata": {},
     "output_type": "display_data"
    },
    {
     "data": {
      "text/html": [
       "\n",
       "  <div class=\"bk-root\" id=\"47a26737-76d9-4c11-b10f-fe15760f60c3\" data-root-id=\"1362\"></div>\n"
      ]
     },
     "metadata": {},
     "output_type": "display_data"
    },
    {
     "data": {
      "application/javascript": "(function(root) {\n  function embed_document(root) {\n  const docs_json = {\"9232af48-5ab2-479e-9cdb-2fed458552d4\":{\"defs\":[],\"roots\":{\"references\":[{\"attributes\":{\"below\":[{\"id\":\"1371\"}],\"center\":[{\"id\":\"1374\"},{\"id\":\"1378\"}],\"height\":200,\"left\":[{\"id\":\"1375\"}],\"renderers\":[{\"id\":\"1399\"}],\"title\":{\"id\":\"1401\"},\"toolbar\":{\"id\":\"1385\"},\"width\":500,\"x_range\":{\"id\":\"1363\"},\"x_scale\":{\"id\":\"1367\"},\"y_range\":{\"id\":\"1365\"},\"y_scale\":{\"id\":\"1369\"}},\"id\":\"1362\",\"subtype\":\"Figure\",\"type\":\"Plot\"},{\"attributes\":{},\"id\":\"1407\",\"type\":\"AllLabels\"},{\"attributes\":{\"axis\":{\"id\":\"1375\"},\"coordinates\":null,\"dimension\":1,\"group\":null,\"ticker\":{\"id\":\"1393\"}},\"id\":\"1378\",\"type\":\"Grid\"},{\"attributes\":{},\"id\":\"1406\",\"type\":\"BasicTickFormatter\"},{\"attributes\":{},\"id\":\"1369\",\"type\":\"LinearScale\"},{\"attributes\":{},\"id\":\"1404\",\"type\":\"AllLabels\"},{\"attributes\":{},\"id\":\"1363\",\"type\":\"DataRange1d\"},{\"attributes\":{},\"id\":\"1365\",\"type\":\"DataRange1d\"},{\"attributes\":{\"axis_label\":\"pitch (MIDI)\",\"coordinates\":null,\"formatter\":{\"id\":\"1403\"},\"group\":null,\"major_label_policy\":{\"id\":\"1404\"},\"ticker\":{\"id\":\"1391\"}},\"id\":\"1375\",\"type\":\"LinearAxis\"},{\"attributes\":{},\"id\":\"1367\",\"type\":\"LinearScale\"},{\"attributes\":{},\"id\":\"1403\",\"type\":\"BasicTickFormatter\"},{\"attributes\":{},\"id\":\"1372\",\"type\":\"BasicTicker\"},{\"attributes\":{\"axis_label\":\"time (sec)\",\"coordinates\":null,\"formatter\":{\"id\":\"1406\"},\"group\":null,\"major_label_policy\":{\"id\":\"1407\"},\"ticker\":{\"id\":\"1372\"}},\"id\":\"1371\",\"type\":\"LinearAxis\"},{\"attributes\":{\"callback\":null,\"tooltips\":[[\"pitch\",\"@pitch\"],[\"program\",\"@program\"],[\"velo\",\"@velocity\"],[\"duration\",\"@duration\"],[\"start_time\",\"@start_time\"],[\"end_time\",\"@end_time\"],[\"velocity\",\"@velocity\"],[\"fill_alpha\",\"@fill_alpha\"]]},\"id\":\"1379\",\"type\":\"HoverTool\"},{\"attributes\":{},\"id\":\"1408\",\"type\":\"UnionRenderers\"},{\"attributes\":{},\"id\":\"1382\",\"type\":\"ResetTool\"},{\"attributes\":{\"interval\":12},\"id\":\"1393\",\"type\":\"SingleIntervalTicker\"},{\"attributes\":{\"data\":{\"bottom\":{\"__ndarray__\":\"ZmZmZmYmUkBmZmZmZmZXQJqZmZmZmTVAZmZmZmZmWUDNzMzMzMxIQGZmZmZmpl5AZmZmZmYmW0DNzMzMzExFQM3MzMzMTEJAzczMzMzMSEDNzMzMzMxIQGZmZmZmJlVAMzMzMzMz4z+amZmZmZk+QGZmZmZmplFAZmZmZmYmXEBmZmZmZqZXQGZmZmZmZlNAmpmZmZmZPEBmZmZmZmZTQGZmZmZmZhJAzczMzMxMSkBmZmZmZiZaQM3MzMzMzEtAZmZmZmYmWkAzMzMzMzMtQDMzMzMzMydAZmZmZmbmVEBmZmZmZmZVQGZmZmZmpl5AzczMzMxMQkBmZmZmZmZdQJqZmZmZmTlAZmZmZmbmVUDNzMzMzExMQJqZmZmZmTxAZmZmZmbmVUDNzMzMzExGQM3MzMzMTE5AzczMzMxMRUDNzMzMzExIQJqZmZmZmTpAZmZmZmYmWUBmZmZmZuZeQGZmZmZmZlxAZmZmZmbmVUDNzMzMzMxIQJqZmZmZmTxAZmZmZmZmUEBmZmZmZmZeQM3MzMzMzEJAZmZmZmamV0DNzMzMzMxOQM3MzMzMTExAZmZmZmbmW0BmZmZmZiZVQM3MzMzMzEZAZmZmZmYmVkBmZmZmZqZfQA==\",\"dtype\":\"float64\",\"order\":\"little\",\"shape\":[59]},\"duration\":{\"__ndarray__\":\"XXTRRRddMEBddNFFF10wQF100UUXXTBAXXTRRRddMEBddNFFF10wQF100UUXXTBAXXTRRRddMEBddNFFF10wQF100UUXXTBAXXTRRRddMEBddNFFF10wQF100UUXXTBAXXTRRRddMEBddNFFF10wQF500UUXXTBAXnTRRRddMEBedNFFF10wQF500UUXXTBAXnTRRRddMEBedNFFF10wQF500UUXXTBAXnTRRRddMEBedNFFF10wQFx00UUXXTBAXHTRRRddMEBcdNFFF10wQFx00UUXXTBAXHTRRRddMEBcdNFFF10wQFx00UUXXTBAXHTRRRddMEBcdNFFF10wQFx00UUXXTBAXHTRRRddMEBcdNFFF10wQFx00UUXXTBAXHTRRRddMEBcdNFFF10wQFx00UUXXTBAXHTRRRddMEBcdNFFF10wQFx00UUXXTBAXHTRRRddMEBcdNFFF10wQGB00UUXXTBAYHTRRRddMEBgdNFFF10wQGB00UUXXTBAWHTRRRddMEBYdNFFF10wQFh00UUXXTBAYHTRRRddMEBgdNFFF10wQGB00UUXXTBAYHTRRRddMEBgdNFFF10wQGB00UUXXTBAYHTRRRddMEBgdNFFF10wQA==\",\"dtype\":\"float64\",\"order\":\"little\",\"shape\":[59]},\"end_time\":{\"__ndarray__\":\"XXTRRRddMEBddNFFF10wQF100UUXXTBAXXTRRRddMEBddNFFF10wQF100UUXXTBAXXTRRRddMEBddNFFF11AQF100UUXXUBAXXTRRRddQEBddNFFF11AQF100UUXXUBAXXTRRRddQEBddNFFF11AQIwuuuiii0hAjC666KKLSECMLrroootIQIwuuuiii0hAjC666KKLSECMLrroootIQIwuuuiii0hAjC666KKLSECMLrroootIQF100UUXXVBAXXTRRRddUEBddNFFF11QQF100UUXXVBAdNFFF110VEB00UUXXXRUQHTRRRdddFRAdNFFF110VEB00UUXXXRUQHTRRRdddFRAdNFFF110VEB00UUXXXRUQKOLLrroolxAo4suuuiiXECjiy666KJcQKOLLrroolxAXXTRRRddYEBddNFFF11gQF100UUXXWBAXXTRRRddYEBddNFFF11gQOmiiy66aGJA6aKLLrpoYkDpoosuumhiQOmiiy66aGJAdNFFF110ZEB00UUXXXRkQHTRRRdddGRAAAAAAACAZkAAAAAAAIBmQAAAAAAAgGZAAAAAAACAZkAAAAAAAIBmQAAAAAAAgGZAAAAAAACAZkAAAAAAAIBmQA==\",\"dtype\":\"float64\",\"order\":\"little\",\"shape\":[59]},\"fill_alpha\":{\"__ndarray__\":\"AAAAAAAAkD8AAAAAAADEPwAAAAAAwO0/AAAAAACA1z8AAAAAAADPPwAAAAAAANU/AAAAAACA7j8AAAAAAMDmPwAAAAAAgNw/AAAAAACA5T8AAAAAAMDuPwAAAAAAANs/AAAAAADA4z8AAAAAAADoPwAAAAAAAO8/AAAAAAAA5T8AAAAAAMDkPwAAAAAAAO4/AAAAAAAAoD8AAAAAAIDSPwAAAAAAQOg/AAAAAADA6T8AAAAAAADWPwAAAAAAAOw/AAAAAACA3j8AAAAAAADDPwAAAAAAANw/AAAAAACA3T8AAAAAAIDiPwAAAAAAQOk/AAAAAAAA2j8AAAAAAIDUPwAAAAAAgOE/AAAAAACA7z8AAAAAAIDrPwAAAAAAgOw/AAAAAACA5z8AAAAAAADfPwAAAAAAAOU/AAAAAAAAyD8AAAAAAMDvPwAAAAAAQOc/AAAAAACA2T8AAAAAAIDtPwAAAAAAAJg/AAAAAACA3T8AAAAAAADBPwAAAAAAQOk/AAAAAABA5T8AAAAAAADaPwAAAAAAQOk/AAAAAACA6D8AAAAAAACgPwAAAAAAQO0/AAAAAADA6j8AAAAAAEDtPwAAAAAAQOQ/AAAAAAAAtD8AAAAAAADXPw==\",\"dtype\":\"float64\",\"order\":\"little\",\"shape\":[59]},\"index\":[0,1,2,3,4,5,6,7,8,9,10,11,12,13,14,15,16,17,18,19,20,21,22,23,24,25,26,27,28,29,30,31,32,33,34,35,36,37,38,39,40,41,42,43,44,45,46,47,48,49,50,51,52,53,54,55,56,57,58],\"instrument\":[0,0,0,0,0,0,0,0,0,0,0,0,0,0,0,0,0,0,0,0,0,0,0,0,0,0,0,0,0,0,0,0,0,0,0,0,0,0,0,0,0,0,0,0,0,0,0,0,0,0,0,0,0,0,0,0,0,0,0],\"pitch\":[73,94,22,102,50,123,109,43,37,50,50,85,1,31,71,113,95,78,29,78,5,53,105,56,105,15,12,84,86,123,37,118,26,88,57,29,88,45,61,43,49,27,101,124,114,88,50,29,66,122,38,95,62,57,112,85,46,89,127],\"program\":[0,0,0,0,0,0,0,0,0,0,0,0,0,0,0,0,0,0,0,0,0,0,0,0,0,0,0,0,0,0,0,0,0,0,0,0,0,0,0,0,0,0,0,0,0,0,0,0,0,0,0,0,0,0,0,0,0,0,0],\"start_time\":{\"__ndarray__\":\"AAAAAAAAAAAAAAAAAAAAAAAAAAAAAAAAAAAAAAAAAAAAAAAAAAAAAAAAAAAAAAAAAAAAAAAAAABddNFFF10wQF100UUXXTBAXXTRRRddMEBddNFFF10wQF100UUXXTBAXXTRRRddMEBddNFFF10wQF100UUXXUBAXXTRRRddQEBddNFFF11AQF100UUXXUBAXXTRRRddQEBddNFFF11AQF100UUXXUBAXXTRRRddQEBddNFFF11AQIwuuuiii0hAjC666KKLSECMLrroootIQIwuuuiii0hAXXTRRRddUEBddNFFF11QQF100UUXXVBAXXTRRRddUEBddNFFF11QQF100UUXXVBAXXTRRRddUEBddNFFF11QQIwuuuiii1hAjC666KKLWECMLrroootYQIwuuuiii1hAo4suuuiiXECjiy666KJcQKOLLrroolxAo4suuuiiXECjiy666KJcQF100UUXXWBAXXTRRRddYEBddNFFF11gQF100UUXXWBA6aKLLrpoYkDpoosuumhiQOmiiy66aGJAdNFFF110ZEB00UUXXXRkQHTRRRdddGRAdNFFF110ZEB00UUXXXRkQHTRRRdddGRAdNFFF110ZEB00UUXXXRkQA==\",\"dtype\":\"float64\",\"order\":\"little\",\"shape\":[59]},\"top\":{\"__ndarray__\":\"mpmZmZlZUkCamZmZmZlXQGZmZmZmZjZAmpmZmZmZWUAzMzMzMzNJQJqZmZmZ2V5AmpmZmZlZW0AzMzMzM7NFQDMzMzMzs0JAMzMzMzMzSUAzMzMzMzNJQJqZmZmZWVVAZmZmZmZm9j9mZmZmZmY/QJqZmZmZ2VFAmpmZmZlZXECamZmZmdlXQJqZmZmZmVNAZmZmZmZmPUCamZmZmZlTQJqZmZmZmRVAMzMzMzOzSkCamZmZmVlaQDMzMzMzM0xAmpmZmZlZWkDNzMzMzMwuQM3MzMzMzChAmpmZmZkZVUCamZmZmZlVQJqZmZmZ2V5AMzMzMzOzQkCamZmZmZldQGZmZmZmZjpAmpmZmZkZVkAzMzMzM7NMQGZmZmZmZj1AmpmZmZkZVkAzMzMzM7NGQDMzMzMzs05AMzMzMzOzRUAzMzMzM7NIQGZmZmZmZjtAmpmZmZlZWUCamZmZmRlfQJqZmZmZmVxAmpmZmZkZVkAzMzMzMzNJQGZmZmZmZj1AmpmZmZmZUECamZmZmZleQDMzMzMzM0NAmpmZmZnZV0AzMzMzMzNPQDMzMzMzs0xAmpmZmZkZXECamZmZmVlVQDMzMzMzM0dAmpmZmZlZVkCamZmZmdlfQA==\",\"dtype\":\"float64\",\"order\":\"little\",\"shape\":[59]},\"velocity\":[2,20,119,47,31,42,122,91,57,86,123,54,79,96,124,84,83,120,4,37,97,103,44,112,61,19,56,59,74,101,52,41,70,126,110,114,94,62,84,24,127,93,51,118,3,59,17,101,85,52,101,98,4,117,107,117,81,10,46]},\"selected\":{\"id\":\"1409\"},\"selection_policy\":{\"id\":\"1408\"}},\"id\":\"1394\",\"type\":\"ColumnDataSource\"},{\"attributes\":{\"axis\":{\"id\":\"1371\"},\"coordinates\":null,\"group\":null,\"ticker\":null},\"id\":\"1374\",\"type\":\"Grid\"},{\"attributes\":{},\"id\":\"1409\",\"type\":\"Selection\"},{\"attributes\":{},\"id\":\"1380\",\"type\":\"PanTool\"},{\"attributes\":{},\"id\":\"1383\",\"type\":\"SaveTool\"},{\"attributes\":{\"overlay\":{\"id\":\"1384\"}},\"id\":\"1381\",\"type\":\"BoxZoomTool\"},{\"attributes\":{\"interval\":12},\"id\":\"1391\",\"type\":\"SingleIntervalTicker\"},{\"attributes\":{\"source\":{\"id\":\"1394\"}},\"id\":\"1400\",\"type\":\"CDSView\"},{\"attributes\":{\"coordinates\":null,\"group\":null},\"id\":\"1401\",\"type\":\"Title\"},{\"attributes\":{\"bottom\":{\"field\":\"bottom\"},\"fill_alpha\":{\"field\":\"fill_alpha\"},\"fill_color\":{\"value\":\"#d53e4f\"},\"left\":{\"field\":\"start_time\"},\"right\":{\"field\":\"end_time\"},\"top\":{\"field\":\"top\"}},\"id\":\"1396\",\"type\":\"Quad\"},{\"attributes\":{\"bottom_units\":\"screen\",\"coordinates\":null,\"fill_alpha\":0.5,\"fill_color\":\"lightgrey\",\"group\":null,\"left_units\":\"screen\",\"level\":\"overlay\",\"line_alpha\":1.0,\"line_color\":\"black\",\"line_dash\":[4,4],\"line_width\":2,\"right_units\":\"screen\",\"syncable\":false,\"top_units\":\"screen\"},\"id\":\"1384\",\"type\":\"BoxAnnotation\"},{\"attributes\":{\"bottom\":{\"field\":\"bottom\"},\"fill_alpha\":{\"value\":0.1},\"fill_color\":{\"value\":\"#d53e4f\"},\"hatch_alpha\":{\"value\":0.1},\"left\":{\"field\":\"start_time\"},\"line_alpha\":{\"value\":0.1},\"right\":{\"field\":\"end_time\"},\"top\":{\"field\":\"top\"}},\"id\":\"1397\",\"type\":\"Quad\"},{\"attributes\":{\"coordinates\":null,\"data_source\":{\"id\":\"1394\"},\"glyph\":{\"id\":\"1396\"},\"group\":null,\"hover_glyph\":null,\"muted_glyph\":{\"id\":\"1398\"},\"nonselection_glyph\":{\"id\":\"1397\"},\"view\":{\"id\":\"1400\"}},\"id\":\"1399\",\"type\":\"GlyphRenderer\"},{\"attributes\":{\"bottom\":{\"field\":\"bottom\"},\"fill_alpha\":{\"value\":0.2},\"fill_color\":{\"value\":\"#d53e4f\"},\"hatch_alpha\":{\"value\":0.2},\"left\":{\"field\":\"start_time\"},\"line_alpha\":{\"value\":0.2},\"right\":{\"field\":\"end_time\"},\"top\":{\"field\":\"top\"}},\"id\":\"1398\",\"type\":\"Quad\"},{\"attributes\":{\"tools\":[{\"id\":\"1379\"},{\"id\":\"1380\"},{\"id\":\"1381\"},{\"id\":\"1382\"},{\"id\":\"1383\"}]},\"id\":\"1385\",\"type\":\"Toolbar\"}],\"root_ids\":[\"1362\"]},\"title\":\"Bokeh Application\",\"version\":\"2.4.3\"}};\n  const render_items = [{\"docid\":\"9232af48-5ab2-479e-9cdb-2fed458552d4\",\"root_ids\":[\"1362\"],\"roots\":{\"1362\":\"47a26737-76d9-4c11-b10f-fe15760f60c3\"}}];\n  root.Bokeh.embed.embed_items_notebook(docs_json, render_items);\n  }\n  if (root.Bokeh !== undefined) {\n    embed_document(root);\n  } else {\n    let attempts = 0;\n    const timer = setInterval(function(root) {\n      if (root.Bokeh !== undefined) {\n        clearInterval(timer);\n        embed_document(root);\n      } else {\n        attempts++;\n        if (attempts > 100) {\n          clearInterval(timer);\n          console.log(\"Bokeh: ERROR: Unable to run BokehJS code because BokehJS library is missing\");\n        }\n      }\n    }, 10, root)\n  }\n})(window);",
      "application/vnd.bokehjs_exec.v0+json": ""
     },
     "metadata": {
      "application/vnd.bokehjs_exec.v0+json": {
       "id": "1362"
      }
     },
     "output_type": "display_data"
    }
   ],
   "source": [
    "def generate_midi(duration: int, time_step: int, max_num_pitches: int) -> List:\n",
    "    ns = NoteSequence()\n",
    "    num_parts = duration // time_step\n",
    "    steps = np.linspace(0, duration, num_parts)\n",
    "    for i in np.arange(len(steps) - 1):\n",
    "        frame_time = steps[i + 1] - steps[i]\n",
    "        time = steps[i]\n",
    "\n",
    "        for _ in np.arange(np.random.choice(max_num_pitches)):\n",
    "            ns.notes.append(\n",
    "                NoteSequence.Note(\n",
    "                    pitch=np.random.choice(128),\n",
    "                    velocity=np.random.choice(128),\n",
    "                    start_time=time,\n",
    "                    end_time=time + frame_time,\n",
    "                )\n",
    "            )\n",
    "\n",
    "    return ns\n",
    "\n",
    "\n",
    "gen_midi = generate_midi(duration=180, time_step=15, max_num_pitches=10)\n",
    "note_seq.plot_sequence(gen_midi)"
   ]
  }
 ],
 "metadata": {
  "kernelspec": {
   "display_name": ".venv",
   "language": "python",
   "name": "python3"
  },
  "language_info": {
   "codemirror_mode": {
    "name": "ipython",
    "version": 3
   },
   "file_extension": ".py",
   "mimetype": "text/x-python",
   "name": "python",
   "nbconvert_exporter": "python",
   "pygments_lexer": "ipython3",
   "version": "3.8.10"
  },
  "orig_nbformat": 4,
  "vscode": {
   "interpreter": {
    "hash": "5b46d9087df5f64e4c0ede7fffb89a5cd344dc6a2d6e7400fc964093bc35f3d9"
   }
  }
 },
 "nbformat": 4,
 "nbformat_minor": 2
}
