{
 "cells": [
  {
   "cell_type": "code",
   "execution_count": 2,
   "metadata": {},
   "outputs": [],
   "source": [
    "import numpy as np\n",
    "# import tensorflow as tf\n",
    "import librosa\n",
    "import note_seq\n",
    "import bokeh\n",
    "from note_seq import NoteSequence\n",
    "from typing import Iterable, List, Tuple\n",
    "\n",
    "\n",
    "import matplotlib.pyplot as plt"
   ]
  },
  {
   "cell_type": "code",
   "execution_count": 83,
   "metadata": {},
   "outputs": [
    {
     "data": {
      "text/plain": [
       "59.64386343211563"
      ]
     },
     "execution_count": 83,
     "metadata": {},
     "output_type": "execute_result"
    }
   ],
   "source": [
    "# np.random.uniform(1,128)"
   ]
  },
  {
   "cell_type": "code",
   "execution_count": 100,
   "metadata": {},
   "outputs": [
    {
     "data": {
      "text/html": [
       "<div class=\"bk-root\">\n",
       "        <a href=\"https://bokeh.org\" target=\"_blank\" class=\"bk-logo bk-logo-small bk-logo-notebook\"></a>\n",
       "        <span id=\"11311\">Loading BokehJS ...</span>\n",
       "    </div>\n"
      ]
     },
     "metadata": {},
     "output_type": "display_data"
    },
    {
     "data": {
      "application/javascript": "(function(root) {\n  function now() {\n    return new Date();\n  }\n\n  const force = true;\n\n  if (typeof root._bokeh_onload_callbacks === \"undefined\" || force === true) {\n    root._bokeh_onload_callbacks = [];\n    root._bokeh_is_loading = undefined;\n  }\n\nconst JS_MIME_TYPE = 'application/javascript';\n  const HTML_MIME_TYPE = 'text/html';\n  const EXEC_MIME_TYPE = 'application/vnd.bokehjs_exec.v0+json';\n  const CLASS_NAME = 'output_bokeh rendered_html';\n\n  /**\n   * Render data to the DOM node\n   */\n  function render(props, node) {\n    const script = document.createElement(\"script\");\n    node.appendChild(script);\n  }\n\n  /**\n   * Handle when an output is cleared or removed\n   */\n  function handleClearOutput(event, handle) {\n    const cell = handle.cell;\n\n    const id = cell.output_area._bokeh_element_id;\n    const server_id = cell.output_area._bokeh_server_id;\n    // Clean up Bokeh references\n    if (id != null && id in Bokeh.index) {\n      Bokeh.index[id].model.document.clear();\n      delete Bokeh.index[id];\n    }\n\n    if (server_id !== undefined) {\n      // Clean up Bokeh references\n      const cmd_clean = \"from bokeh.io.state import curstate; print(curstate().uuid_to_server['\" + server_id + \"'].get_sessions()[0].document.roots[0]._id)\";\n      cell.notebook.kernel.execute(cmd_clean, {\n        iopub: {\n          output: function(msg) {\n            const id = msg.content.text.trim();\n            if (id in Bokeh.index) {\n              Bokeh.index[id].model.document.clear();\n              delete Bokeh.index[id];\n            }\n          }\n        }\n      });\n      // Destroy server and session\n      const cmd_destroy = \"import bokeh.io.notebook as ion; ion.destroy_server('\" + server_id + \"')\";\n      cell.notebook.kernel.execute(cmd_destroy);\n    }\n  }\n\n  /**\n   * Handle when a new output is added\n   */\n  function handleAddOutput(event, handle) {\n    const output_area = handle.output_area;\n    const output = handle.output;\n\n    // limit handleAddOutput to display_data with EXEC_MIME_TYPE content only\n    if ((output.output_type != \"display_data\") || (!Object.prototype.hasOwnProperty.call(output.data, EXEC_MIME_TYPE))) {\n      return\n    }\n\n    const toinsert = output_area.element.find(\".\" + CLASS_NAME.split(' ')[0]);\n\n    if (output.metadata[EXEC_MIME_TYPE][\"id\"] !== undefined) {\n      toinsert[toinsert.length - 1].firstChild.textContent = output.data[JS_MIME_TYPE];\n      // store reference to embed id on output_area\n      output_area._bokeh_element_id = output.metadata[EXEC_MIME_TYPE][\"id\"];\n    }\n    if (output.metadata[EXEC_MIME_TYPE][\"server_id\"] !== undefined) {\n      const bk_div = document.createElement(\"div\");\n      bk_div.innerHTML = output.data[HTML_MIME_TYPE];\n      const script_attrs = bk_div.children[0].attributes;\n      for (let i = 0; i < script_attrs.length; i++) {\n        toinsert[toinsert.length - 1].firstChild.setAttribute(script_attrs[i].name, script_attrs[i].value);\n        toinsert[toinsert.length - 1].firstChild.textContent = bk_div.children[0].textContent\n      }\n      // store reference to server id on output_area\n      output_area._bokeh_server_id = output.metadata[EXEC_MIME_TYPE][\"server_id\"];\n    }\n  }\n\n  function register_renderer(events, OutputArea) {\n\n    function append_mime(data, metadata, element) {\n      // create a DOM node to render to\n      const toinsert = this.create_output_subarea(\n        metadata,\n        CLASS_NAME,\n        EXEC_MIME_TYPE\n      );\n      this.keyboard_manager.register_events(toinsert);\n      // Render to node\n      const props = {data: data, metadata: metadata[EXEC_MIME_TYPE]};\n      render(props, toinsert[toinsert.length - 1]);\n      element.append(toinsert);\n      return toinsert\n    }\n\n    /* Handle when an output is cleared or removed */\n    events.on('clear_output.CodeCell', handleClearOutput);\n    events.on('delete.Cell', handleClearOutput);\n\n    /* Handle when a new output is added */\n    events.on('output_added.OutputArea', handleAddOutput);\n\n    /**\n     * Register the mime type and append_mime function with output_area\n     */\n    OutputArea.prototype.register_mime_type(EXEC_MIME_TYPE, append_mime, {\n      /* Is output safe? */\n      safe: true,\n      /* Index of renderer in `output_area.display_order` */\n      index: 0\n    });\n  }\n\n  // register the mime type if in Jupyter Notebook environment and previously unregistered\n  if (root.Jupyter !== undefined) {\n    const events = require('base/js/events');\n    const OutputArea = require('notebook/js/outputarea').OutputArea;\n\n    if (OutputArea.prototype.mime_types().indexOf(EXEC_MIME_TYPE) == -1) {\n      register_renderer(events, OutputArea);\n    }\n  }\n  if (typeof (root._bokeh_timeout) === \"undefined\" || force === true) {\n    root._bokeh_timeout = Date.now() + 5000;\n    root._bokeh_failed_load = false;\n  }\n\n  const NB_LOAD_WARNING = {'data': {'text/html':\n     \"<div style='background-color: #fdd'>\\n\"+\n     \"<p>\\n\"+\n     \"BokehJS does not appear to have successfully loaded. If loading BokehJS from CDN, this \\n\"+\n     \"may be due to a slow or bad network connection. Possible fixes:\\n\"+\n     \"</p>\\n\"+\n     \"<ul>\\n\"+\n     \"<li>re-rerun `output_notebook()` to attempt to load from CDN again, or</li>\\n\"+\n     \"<li>use INLINE resources instead, as so:</li>\\n\"+\n     \"</ul>\\n\"+\n     \"<code>\\n\"+\n     \"from bokeh.resources import INLINE\\n\"+\n     \"output_notebook(resources=INLINE)\\n\"+\n     \"</code>\\n\"+\n     \"</div>\"}};\n\n  function display_loaded() {\n    const el = document.getElementById(\"11311\");\n    if (el != null) {\n      el.textContent = \"BokehJS is loading...\";\n    }\n    if (root.Bokeh !== undefined) {\n      if (el != null) {\n        el.textContent = \"BokehJS \" + root.Bokeh.version + \" successfully loaded.\";\n      }\n    } else if (Date.now() < root._bokeh_timeout) {\n      setTimeout(display_loaded, 100)\n    }\n  }\n\n  function run_callbacks() {\n    try {\n      root._bokeh_onload_callbacks.forEach(function(callback) {\n        if (callback != null)\n          callback();\n      });\n    } finally {\n      delete root._bokeh_onload_callbacks\n    }\n    console.debug(\"Bokeh: all callbacks have finished\");\n  }\n\n  function load_libs(css_urls, js_urls, callback) {\n    if (css_urls == null) css_urls = [];\n    if (js_urls == null) js_urls = [];\n\n    root._bokeh_onload_callbacks.push(callback);\n    if (root._bokeh_is_loading > 0) {\n      console.debug(\"Bokeh: BokehJS is being loaded, scheduling callback at\", now());\n      return null;\n    }\n    if (js_urls == null || js_urls.length === 0) {\n      run_callbacks();\n      return null;\n    }\n    console.debug(\"Bokeh: BokehJS not loaded, scheduling load and callback at\", now());\n    root._bokeh_is_loading = css_urls.length + js_urls.length;\n\n    function on_load() {\n      root._bokeh_is_loading--;\n      if (root._bokeh_is_loading === 0) {\n        console.debug(\"Bokeh: all BokehJS libraries/stylesheets loaded\");\n        run_callbacks()\n      }\n    }\n\n    function on_error(url) {\n      console.error(\"failed to load \" + url);\n    }\n\n    for (let i = 0; i < css_urls.length; i++) {\n      const url = css_urls[i];\n      const element = document.createElement(\"link\");\n      element.onload = on_load;\n      element.onerror = on_error.bind(null, url);\n      element.rel = \"stylesheet\";\n      element.type = \"text/css\";\n      element.href = url;\n      console.debug(\"Bokeh: injecting link tag for BokehJS stylesheet: \", url);\n      document.body.appendChild(element);\n    }\n\n    for (let i = 0; i < js_urls.length; i++) {\n      const url = js_urls[i];\n      const element = document.createElement('script');\n      element.onload = on_load;\n      element.onerror = on_error.bind(null, url);\n      element.async = false;\n      element.src = url;\n      console.debug(\"Bokeh: injecting script tag for BokehJS library: \", url);\n      document.head.appendChild(element);\n    }\n  };\n\n  function inject_raw_css(css) {\n    const element = document.createElement(\"style\");\n    element.appendChild(document.createTextNode(css));\n    document.body.appendChild(element);\n  }\n\n  const js_urls = [\"https://cdn.bokeh.org/bokeh/release/bokeh-2.4.3.min.js\", \"https://cdn.bokeh.org/bokeh/release/bokeh-gl-2.4.3.min.js\", \"https://cdn.bokeh.org/bokeh/release/bokeh-widgets-2.4.3.min.js\", \"https://cdn.bokeh.org/bokeh/release/bokeh-tables-2.4.3.min.js\", \"https://cdn.bokeh.org/bokeh/release/bokeh-mathjax-2.4.3.min.js\"];\n  const css_urls = [];\n\n  const inline_js = [    function(Bokeh) {\n      Bokeh.set_log_level(\"info\");\n    },\nfunction(Bokeh) {\n    }\n  ];\n\n  function run_inline_js() {\n    if (root.Bokeh !== undefined || force === true) {\n          for (let i = 0; i < inline_js.length; i++) {\n      inline_js[i].call(root, root.Bokeh);\n    }\nif (force === true) {\n        display_loaded();\n      }} else if (Date.now() < root._bokeh_timeout) {\n      setTimeout(run_inline_js, 100);\n    } else if (!root._bokeh_failed_load) {\n      console.log(\"Bokeh: BokehJS failed to load within specified timeout.\");\n      root._bokeh_failed_load = true;\n    } else if (force !== true) {\n      const cell = $(document.getElementById(\"11311\")).parents('.cell').data().cell;\n      cell.output_area.append_execute_result(NB_LOAD_WARNING)\n    }\n  }\n\n  if (root._bokeh_is_loading === 0) {\n    console.debug(\"Bokeh: BokehJS loaded, going straight to plotting\");\n    run_inline_js();\n  } else {\n    load_libs(css_urls, js_urls, function() {\n      console.debug(\"Bokeh: BokehJS plotting callback run at\", now());\n      run_inline_js();\n    });\n  }\n}(window));",
      "application/vnd.bokehjs_load.v0+json": ""
     },
     "metadata": {},
     "output_type": "display_data"
    },
    {
     "data": {
      "text/html": [
       "\n",
       "  <div class=\"bk-root\" id=\"58c30efa-b5c8-4100-aefd-b372e89e8a91\" data-root-id=\"11262\"></div>\n"
      ]
     },
     "metadata": {},
     "output_type": "display_data"
    },
    {
     "data": {
      "application/javascript": "(function(root) {\n  function embed_document(root) {\n  const docs_json = {\"92d261b0-bcbb-4201-958c-9ab9b6c6cfaa\":{\"defs\":[],\"roots\":{\"references\":[{\"attributes\":{\"below\":[{\"id\":\"11271\"}],\"center\":[{\"id\":\"11274\"},{\"id\":\"11278\"}],\"height\":200,\"left\":[{\"id\":\"11275\"}],\"renderers\":[{\"id\":\"11299\"}],\"title\":{\"id\":\"11301\"},\"toolbar\":{\"id\":\"11285\"},\"width\":500,\"x_range\":{\"id\":\"11263\"},\"x_scale\":{\"id\":\"11267\"},\"y_range\":{\"id\":\"11265\"},\"y_scale\":{\"id\":\"11269\"}},\"id\":\"11262\",\"subtype\":\"Figure\",\"type\":\"Plot\"},{\"attributes\":{\"axis\":{\"id\":\"11271\"},\"coordinates\":null,\"group\":null,\"ticker\":null},\"id\":\"11274\",\"type\":\"Grid\"},{\"attributes\":{},\"id\":\"11272\",\"type\":\"BasicTicker\"},{\"attributes\":{\"interval\":12},\"id\":\"11293\",\"type\":\"SingleIntervalTicker\"},{\"attributes\":{},\"id\":\"11280\",\"type\":\"PanTool\"},{\"attributes\":{},\"id\":\"11309\",\"type\":\"Selection\"},{\"attributes\":{},\"id\":\"11263\",\"type\":\"DataRange1d\"},{\"attributes\":{\"bottom_units\":\"screen\",\"coordinates\":null,\"fill_alpha\":0.5,\"fill_color\":\"lightgrey\",\"group\":null,\"left_units\":\"screen\",\"level\":\"overlay\",\"line_alpha\":1.0,\"line_color\":\"black\",\"line_dash\":[4,4],\"line_width\":2,\"right_units\":\"screen\",\"syncable\":false,\"top_units\":\"screen\"},\"id\":\"11284\",\"type\":\"BoxAnnotation\"},{\"attributes\":{\"axis_label\":\"pitch (MIDI)\",\"coordinates\":null,\"formatter\":{\"id\":\"11303\"},\"group\":null,\"major_label_policy\":{\"id\":\"11304\"},\"ticker\":{\"id\":\"11291\"}},\"id\":\"11275\",\"type\":\"LinearAxis\"},{\"attributes\":{\"bottom\":{\"field\":\"bottom\"},\"fill_alpha\":{\"value\":0.2},\"fill_color\":{\"value\":\"#d53e4f\"},\"hatch_alpha\":{\"value\":0.2},\"left\":{\"field\":\"start_time\"},\"line_alpha\":{\"value\":0.2},\"right\":{\"field\":\"end_time\"},\"top\":{\"field\":\"top\"}},\"id\":\"11298\",\"type\":\"Quad\"},{\"attributes\":{\"overlay\":{\"id\":\"11284\"}},\"id\":\"11281\",\"type\":\"BoxZoomTool\"},{\"attributes\":{},\"id\":\"11303\",\"type\":\"BasicTickFormatter\"},{\"attributes\":{},\"id\":\"11267\",\"type\":\"LinearScale\"},{\"attributes\":{},\"id\":\"11308\",\"type\":\"UnionRenderers\"},{\"attributes\":{\"tools\":[{\"id\":\"11279\"},{\"id\":\"11280\"},{\"id\":\"11281\"},{\"id\":\"11282\"},{\"id\":\"11283\"}]},\"id\":\"11285\",\"type\":\"Toolbar\"},{\"attributes\":{\"source\":{\"id\":\"11294\"}},\"id\":\"11300\",\"type\":\"CDSView\"},{\"attributes\":{\"callback\":null,\"tooltips\":[[\"pitch\",\"@pitch\"],[\"program\",\"@program\"],[\"velo\",\"@velocity\"],[\"duration\",\"@duration\"],[\"start_time\",\"@start_time\"],[\"end_time\",\"@end_time\"],[\"velocity\",\"@velocity\"],[\"fill_alpha\",\"@fill_alpha\"]]},\"id\":\"11279\",\"type\":\"HoverTool\"},{\"attributes\":{\"coordinates\":null,\"data_source\":{\"id\":\"11294\"},\"glyph\":{\"id\":\"11296\"},\"group\":null,\"hover_glyph\":null,\"muted_glyph\":{\"id\":\"11298\"},\"nonselection_glyph\":{\"id\":\"11297\"},\"view\":{\"id\":\"11300\"}},\"id\":\"11299\",\"type\":\"GlyphRenderer\"},{\"attributes\":{\"axis\":{\"id\":\"11275\"},\"coordinates\":null,\"dimension\":1,\"group\":null,\"ticker\":{\"id\":\"11293\"}},\"id\":\"11278\",\"type\":\"Grid\"},{\"attributes\":{},\"id\":\"11304\",\"type\":\"AllLabels\"},{\"attributes\":{\"data\":{\"bottom\":{\"__ndarray__\":\"zczMzMzMBEDNzMzMzMxGQGZmZmZmZlJAzczMzMxMSUCamZmZmZn5PzMzMzMzMylAZmZmZmZmGkBmZmZmZqZUQJqZmZmZmfk/ZmZmZmZmEkDNzMzMzMxEQGZmZmZmJl1AZmZmZmamUEBmZmZmZqZQQGZmZmZmJlVAzczMzMzMRkDNzMzMzMxCQGZmZmZmZhpAZmZmZmbmXUAzMzMzMzMtQJqZmZmZmfk/ZmZmZmYmXUCamZmZmZkxQDMzMzMzMytAZmZmZmYmWUBmZmZmZiZaQJqZmZmZmTRAZmZmZmZmVEDNzMzMzMxJQDMzMzMzMylAzczMzMxMQ0DNzMzMzMxAQGZmZmZmZlpAzczMzMxMTkA=\",\"dtype\":\"float64\",\"order\":\"little\",\"shape\":[34]},\"duration\":{\"__ndarray__\":\"UWkgWKl/JUBGi8DIWf8kQLjCK0CbOihAipQcWYHQJ0CDRYBqLrcsQJkT79D9VgFArW84LpvNK0BERI0e5a4TQHAOlmy2X/8/MHpUK1lx5j+A0dBleJEOQGxzl+mP0xpAsJpbbU1bF0CozZljehojQMi+vC0GwCpAuNVamkqqIkAoDTuwveMoQCBQuzIrwxJAuI6z3yX+LUB0piroq7IiQIBtH5XLfCtA4OGF/QROEkBw6DqGYDITQMjmg9iuACRAoK0DSibmIECgUvrMecAVQMDeipp6YB9AkJKw/io4EUDwOM2jCWsVQKDDh5trXCNAoADzEqcnKUDA7yo9R8EhQEAQIZ/9sCBAAA/mfZMdGUA=\",\"dtype\":\"float64\",\"order\":\"little\",\"shape\":[34]},\"end_time\":{\"__ndarray__\":\"UWkgWKl/JUBGi8DIWf8kQLjCK0CbOihAipQcWYHQJ0CDRYBqLrcsQJkT79D9VgFArW84LpvNK0ARUaNHueszQOdgyWb79TBAo0e1khVnL0AwGroML9IyQNvcZfrjtDVArOZWW9PWNEDU5swxPY04QGRf3hYDYDxAbrWWppKqQ0BKww5s7zhFQARqV2ZlWEFAruPsd4l/RkCdqQr6qqxDQGDbR+Uy30VAHl7YT+AkUECHrmMIJjNQQNl8ENsVgFFAtHVAycQcUUAqpc+cB1xQQOytqKkH9lBAKQnrr4ITUECP0zyasBZUQHT4cHONK1VAFGBe4vTkVUD4XaXnKPhUQAgi5LMf1lRA8GDeN9lRVEA=\",\"dtype\":\"float64\",\"order\":\"little\",\"shape\":[34]},\"fill_alpha\":{\"__ndarray__\":\"AAAAAADA6T8AAAAAAEDtPwAAAAAAQOE/AAAAAAAA6T8AAAAAAAC+PwAAAAAAwOg/AAAAAAAA0T8AAAAAAAC+PwAAAAAAgOo/AAAAAAAA5T8AAAAAAACQPwAAAAAAQOI/AAAAAAAA6D8AAAAAAADdPwAAAAAAANI/AAAAAADA4T8AAAAAAADvPwAAAAAAwOc/AAAAAAAAvD8AAAAAAIDQPwAAAAAAgOw/AAAAAACA4T8AAAAAAEDgPwAAAAAAALY/AAAAAABA7z8AAAAAAIDRPwAAAAAAAMg/AAAAAAAA7z8AAAAAAIDqPwAAAAAAALo/AAAAAADA7T8AAAAAAADDPwAAAAAAAMo/AAAAAAAA1j8=\",\"dtype\":\"float64\",\"order\":\"little\",\"shape\":[34]},\"index\":[0,1,2,3,4,5,6,7,8,9,10,11,12,13,14,15,16,17,18,19,20,21,22,23,24,25,26,27,28,29,30,31,32,33],\"instrument\":[0,0,0,0,0,0,0,0,0,0,0,0,0,0,0,0,0,0,0,0,0,0,0,0,0,0,0,0,0,0,0,0,0,0],\"pitch\":[3,46,74,51,2,13,7,83,2,5,42,117,67,67,85,46,38,7,120,15,2,117,18,14,101,105,21,82,52,13,39,34,106,61],\"program\":[0,0,0,0,0,0,0,0,0,0,0,0,0,0,0,0,0,0,0,0,0,0,0,0,0,0,0,0,0,0,0,0,0,0],\"start_time\":{\"__ndarray__\":\"AAAAAAAAAAAAAAAAAAAAAAAAAAAAAAAAAAAAAAAAAAAAAAAAAAAAAAAAAAAAAAAAAAAAAAAAAAAAAAAAAAAuQAAAAAAAAC5AAAAAAAAALkAAAAAAAAAuQAAAAAAAAC5AAAAAAAAALkAAAAAAAAAuQAAAAAAAAC5AAAAAAAAAPkAAAAAAAAA+QAAAAAAAAD5AAAAAAAAAPkAAAAAAAAA+QAAAAAAAAD5AAAAAAAAATkAAAAAAAABOQAAAAAAAAE5AAAAAAAAATkAAAAAAAABOQAAAAAAAAE5AAAAAAAAATkAAAAAAAMBSQAAAAAAAwFJAAAAAAADAUkAAAAAAAMBSQAAAAAAAwFJAAAAAAADAUkA=\",\"dtype\":\"float64\",\"order\":\"little\",\"shape\":[34]},\"top\":{\"__ndarray__\":\"MzMzMzMzC0AzMzMzMzNHQJqZmZmZmVJAMzMzMzOzSUAzMzMzMzMDQM3MzMzMzCpAmpmZmZmZHUCamZmZmdlUQDMzMzMzMwNAmpmZmZmZFUAzMzMzMzNFQJqZmZmZWV1AmpmZmZnZUECamZmZmdlQQJqZmZmZWVVAMzMzMzMzR0AzMzMzMzNDQJqZmZmZmR1AmpmZmZkZXkDNzMzMzMwuQDMzMzMzMwNAmpmZmZlZXUBmZmZmZmYyQM3MzMzMzCxAmpmZmZlZWUCamZmZmVlaQGZmZmZmZjVAmpmZmZmZVEAzMzMzMzNKQM3MzMzMzCpAMzMzMzOzQ0AzMzMzMzNBQJqZmZmZmVpAMzMzMzOzTkA=\",\"dtype\":\"float64\",\"order\":\"little\",\"shape\":[34]},\"velocity\":[103,117,69,100,15,99,34,15,106,84,2,73,96,58,36,71,124,95,14,33,114,70,65,11,125,35,24,124,106,13,119,19,26,44]},\"selected\":{\"id\":\"11309\"},\"selection_policy\":{\"id\":\"11308\"}},\"id\":\"11294\",\"type\":\"ColumnDataSource\"},{\"attributes\":{},\"id\":\"11283\",\"type\":\"SaveTool\"},{\"attributes\":{\"bottom\":{\"field\":\"bottom\"},\"fill_alpha\":{\"field\":\"fill_alpha\"},\"fill_color\":{\"value\":\"#d53e4f\"},\"left\":{\"field\":\"start_time\"},\"right\":{\"field\":\"end_time\"},\"top\":{\"field\":\"top\"}},\"id\":\"11296\",\"type\":\"Quad\"},{\"attributes\":{},\"id\":\"11307\",\"type\":\"AllLabels\"},{\"attributes\":{\"coordinates\":null,\"group\":null},\"id\":\"11301\",\"type\":\"Title\"},{\"attributes\":{\"bottom\":{\"field\":\"bottom\"},\"fill_alpha\":{\"value\":0.1},\"fill_color\":{\"value\":\"#d53e4f\"},\"hatch_alpha\":{\"value\":0.1},\"left\":{\"field\":\"start_time\"},\"line_alpha\":{\"value\":0.1},\"right\":{\"field\":\"end_time\"},\"top\":{\"field\":\"top\"}},\"id\":\"11297\",\"type\":\"Quad\"},{\"attributes\":{},\"id\":\"11265\",\"type\":\"DataRange1d\"},{\"attributes\":{\"interval\":12},\"id\":\"11291\",\"type\":\"SingleIntervalTicker\"},{\"attributes\":{\"axis_label\":\"time (sec)\",\"coordinates\":null,\"formatter\":{\"id\":\"11306\"},\"group\":null,\"major_label_policy\":{\"id\":\"11307\"},\"ticker\":{\"id\":\"11272\"}},\"id\":\"11271\",\"type\":\"LinearAxis\"},{\"attributes\":{},\"id\":\"11306\",\"type\":\"BasicTickFormatter\"},{\"attributes\":{},\"id\":\"11269\",\"type\":\"LinearScale\"},{\"attributes\":{},\"id\":\"11282\",\"type\":\"ResetTool\"}],\"root_ids\":[\"11262\"]},\"title\":\"Bokeh Application\",\"version\":\"2.4.3\"}};\n  const render_items = [{\"docid\":\"92d261b0-bcbb-4201-958c-9ab9b6c6cfaa\",\"root_ids\":[\"11262\"],\"roots\":{\"11262\":\"58c30efa-b5c8-4100-aefd-b372e89e8a91\"}}];\n  root.Bokeh.embed.embed_items_notebook(docs_json, render_items);\n  }\n  if (root.Bokeh !== undefined) {\n    embed_document(root);\n  } else {\n    let attempts = 0;\n    const timer = setInterval(function(root) {\n      if (root.Bokeh !== undefined) {\n        clearInterval(timer);\n        embed_document(root);\n      } else {\n        attempts++;\n        if (attempts > 100) {\n          clearInterval(timer);\n          console.log(\"Bokeh: ERROR: Unable to run BokehJS code because BokehJS library is missing\");\n        }\n      }\n    }, 10, root)\n  }\n})(window);",
      "application/vnd.bokehjs_exec.v0+json": ""
     },
     "metadata": {
      "application/vnd.bokehjs_exec.v0+json": {
       "id": "11262"
      }
     },
     "output_type": "display_data"
    }
   ],
   "source": [
    "def generate_midi(duration: int, time_step: int, max_num_pitches: int) -> List:\n",
    "    ns = NoteSequence()\n",
    "    num_parts = duration / time_step\n",
    "\n",
    "    for i in np.arange(num_parts):\n",
    "        # frame_time = steps[i + 1] - steps[i]\n",
    "        # time = steps[i]\n",
    "\n",
    "        for _ in np.arange(np.random.choice(max_num_pitches)):\n",
    "            start_time = time_step * i\n",
    "            end_time = start_time + np.random.uniform(0, time_step)\n",
    "            end_time = end_time if end_time <= 100 else 100\n",
    "            ns.notes.append(\n",
    "                NoteSequence.Note(\n",
    "                    pitch=np.random.choice(128),\n",
    "                    velocity=np.random.choice(np.arange(1,128)),\n",
    "                    start_time=start_time,\n",
    "                    end_time=end_time,\n",
    "                )\n",
    "            )\n",
    "\n",
    "    return ns\n",
    "\n",
    "\n",
    "gen_midi = generate_midi(duration=100, time_step=15, max_num_pitches=10)\n",
    "note_seq.plot_sequence(gen_midi)"
   ]
  }
 ],
 "metadata": {
  "kernelspec": {
   "display_name": ".venv",
   "language": "python",
   "name": "python3"
  },
  "language_info": {
   "codemirror_mode": {
    "name": "ipython",
    "version": 3
   },
   "file_extension": ".py",
   "mimetype": "text/x-python",
   "name": "python",
   "nbconvert_exporter": "python",
   "pygments_lexer": "ipython3",
   "version": "3.8.10"
  },
  "orig_nbformat": 4,
  "vscode": {
   "interpreter": {
    "hash": "5b46d9087df5f64e4c0ede7fffb89a5cd344dc6a2d6e7400fc964093bc35f3d9"
   }
  }
 },
 "nbformat": 4,
 "nbformat_minor": 2
}
