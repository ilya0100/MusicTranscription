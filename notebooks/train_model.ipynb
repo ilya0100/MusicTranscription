{
 "cells": [
  {
   "cell_type": "code",
   "execution_count": 2,
   "metadata": {},
   "outputs": [
    {
     "ename": "ModuleNotFoundError",
     "evalue": "No module named 'tqdm'",
     "output_type": "error",
     "traceback": [
      "\u001b[0;31m---------------------------------------------------------------------------\u001b[0m",
      "\u001b[0;31mModuleNotFoundError\u001b[0m                       Traceback (most recent call last)",
      "Cell \u001b[0;32mIn[2], line 15\u001b[0m\n\u001b[1;32m     13\u001b[0m \u001b[39mfrom\u001b[39;00m \u001b[39mIPython\u001b[39;00m\u001b[39m.\u001b[39;00m\u001b[39mdisplay\u001b[39;00m \u001b[39mimport\u001b[39;00m clear_output\n\u001b[1;32m     14\u001b[0m \u001b[39mfrom\u001b[39;00m \u001b[39mtyping\u001b[39;00m \u001b[39mimport\u001b[39;00m Tuple, List\n\u001b[0;32m---> 15\u001b[0m \u001b[39mfrom\u001b[39;00m \u001b[39mtqdm\u001b[39;00m \u001b[39mimport\u001b[39;00m \u001b[39m*\u001b[39m\n\u001b[1;32m     16\u001b[0m get_ipython()\u001b[39m.\u001b[39mrun_line_magic(\u001b[39m'\u001b[39m\u001b[39mmatplotlib\u001b[39m\u001b[39m'\u001b[39m, \u001b[39m'\u001b[39m\u001b[39minline\u001b[39m\u001b[39m'\u001b[39m)\n",
      "\u001b[0;31mModuleNotFoundError\u001b[0m: No module named 'tqdm'"
     ]
    }
   ],
   "source": [
    "import numpy as np\n",
    "#from sklearn.datasets import fetch_mldata\n",
    "#from sklearn.model_selection import train_test_split\n",
    "from sklearn.metrics import f1_score\n",
    "from scipy.signal import convolve2d, convolve\n",
    "import torch\n",
    "from torch import nn\n",
    "from torch.autograd import Variable\n",
    "import matplotlib.pyplot as plt\n",
    "from torch.utils.data import Dataset, DataLoader\n",
    "# from torchvision.datasets import MNIST\n",
    "# from torchvision import transforms\n",
    "from IPython.display import clear_output\n",
    "from typing import Tuple, List\n",
    "from tqdm import *\n",
    "%matplotlib inline"
   ]
  },
  {
   "cell_type": "code",
   "execution_count": 2,
   "metadata": {},
   "outputs": [],
   "source": [
    "def corrected_f1_score(y_pred: np.ndarray, y_true: np.ndarray) -> float:\n",
    "    scores = []\n",
    "    for predict, true in zip(y_pred, y_true):\n",
    "        pred_size = (predict >= predict[-1]).sum()\n",
    "        predict = np.argsort(predict)[::-1][:pred_size]\n",
    "\n",
    "        size = max(pred_size, (true > -1).sum())\n",
    "        if size > len(predict):\n",
    "            predict = np.pad(predict, (0, size - len(predict)), constant_values=-1)\n",
    "\n",
    "        score = f1_score(true[:size], predict, average=\"macro\")\n",
    "        scores.append(score)\n",
    "    return sum(scores) / len(scores)"
   ]
  },
  {
   "cell_type": "code",
   "execution_count": 3,
   "metadata": {},
   "outputs": [
    {
     "data": {
      "text/plain": [
       "0.5"
      ]
     },
     "execution_count": 3,
     "metadata": {},
     "output_type": "execute_result"
    }
   ],
   "source": [
    "# pred = np.array([\n",
    "#     np.array([0.1, 0.9, 0.3, 0.8]),\n",
    "#     np.array([0.0, 0.4, 0.7])\n",
    "# ])\n",
    "# y = np.array([\n",
    "#     np.array([1, 3, -1, -1]),\n",
    "#     np.array([2, -1, -1, -1]),\n",
    "# ])\n",
    "pred = torch.Tensor([\n",
    "    [0.1, 0.9, 0.3, 0.8],\n",
    "    [0.1, 0.9, 0.3, 0.4],\n",
    "])\n",
    "y = torch.Tensor([\n",
    "    [1, 3, -1, -1],\n",
    "    [2, -1, -1, -1],\n",
    "])\n",
    "\n",
    "sample = np.array([\n",
    "    [6, 1, 1, 4],\n",
    "    [0, 5, 4, 3],\n",
    "])\n",
    "\n",
    "corrected_f1_score(pred.data.numpy(), y.data.numpy())"
   ]
  },
  {
   "cell_type": "code",
   "execution_count": 4,
   "metadata": {},
   "outputs": [
    {
     "name": "stderr",
     "output_type": "stream",
     "text": [
      "/home/ilya20/documents/MusicTranscription/.venv/lib/python3.8/site-packages/pydub/utils.py:170: RuntimeWarning: Couldn't find ffmpeg or avconv - defaulting to ffmpeg, but may not work\n",
      "  warn(\"Couldn't find ffmpeg or avconv - defaulting to ffmpeg, but may not work\", RuntimeWarning)\n"
     ]
    }
   ],
   "source": [
    "import matplotlib.pyplot as plt\n",
    "import note_seq\n",
    "import bokeh\n",
    "import librosa.display\n",
    "\n",
    "from src.features.build_features import detokenize\n",
    "from src.entities.audio_params import AudioParams\n",
    "from src.entities.dataset_params import DatasetParams\n",
    "from src.data.make_dataset import WavMidiDataset, AudioDataset\n",
    "\n",
    "SAMPLE_RATE = 44100\n",
    "FRAME_LENGTH = 2000\n",
    "\n",
    "audio_params = AudioParams(\n",
    "    sample_rate=SAMPLE_RATE,\n",
    "    frame_length=FRAME_LENGTH,\n",
    "    frame_step=FRAME_LENGTH,\n",
    "    frame_time=FRAME_LENGTH / SAMPLE_RATE,\n",
    "    n_mels=128,\n",
    "    fmin=8,\n",
    "    fmax=12500,\n",
    "    window=\"taylor\"\n",
    ")\n",
    "train_params = DatasetParams(\n",
    "    root_path=\"/mnt/d/Downloads/maestro/maestro-v3.0.0/\",\n",
    "    metadata=\"maestro-v3.0.0.csv\",\n",
    "    years_list=[2018],\n",
    "    split=\"train\",\n",
    "    audio_params=audio_params,\n",
    ")\n",
    "\n",
    "test_params = DatasetParams(\n",
    "    root_path=\"/mnt/d/Downloads/maestro/maestro-v3.0.0/\",\n",
    "    metadata=\"maestro-v3.0.0.csv\",\n",
    "    years_list=[2018],\n",
    "    split=\"test\",\n",
    "    audio_params=audio_params,\n",
    ")"
   ]
  },
  {
   "cell_type": "code",
   "execution_count": 5,
   "metadata": {},
   "outputs": [],
   "source": [
    "train_ds = WavMidiDataset(train_params)\n",
    "test_ds = WavMidiDataset(test_params)"
   ]
  },
  {
   "cell_type": "code",
   "execution_count": 6,
   "metadata": {},
   "outputs": [
    {
     "data": {
      "text/plain": [
       "(70, 10)"
      ]
     },
     "execution_count": 6,
     "metadata": {},
     "output_type": "execute_result"
    }
   ],
   "source": [
    "len(train_ds), len(test_ds)"
   ]
  },
  {
   "cell_type": "code",
   "execution_count": 7,
   "metadata": {},
   "outputs": [],
   "source": [
    "# frames, notes, times = train_ds[37]\n",
    "# train_audio_ds = AudioDataset(frames, notes)\n",
    "# train_loader = DataLoader(train_audio_ds, 1000)\n",
    "\n",
    "# frames, notes, times = test_ds[7]\n",
    "# test_audio_ds = AudioDataset(frames, notes)\n",
    "# test_loader = DataLoader(test_audio_ds, 1000)\n",
    "\n",
    "# train_loader = DataLoader(train_ds, 1)\n",
    "# test_loader = DataLoader(test_ds, 1)"
   ]
  },
  {
   "cell_type": "code",
   "execution_count": 8,
   "metadata": {},
   "outputs": [],
   "source": [
    "# loss = nn.MultiLabelMarginLoss()\n",
    "# x = torch.FloatTensor([[0.1, 0.9, 0.1, 1]])\n",
    "# # for target y, only consider labels 3 and 0, not after label -1\n",
    "# y = torch.LongTensor([[1, 3, -1, -1]])\n",
    "# # 0.25 * ((1-(0.1-0.2)) + (1-(0.1-0.4)) + (1-(0.8-0.2)) + (1-(0.8-0.4)))\n",
    "# loss(x, y)"
   ]
  },
  {
   "cell_type": "code",
   "execution_count": null,
   "metadata": {},
   "outputs": [],
   "source": []
  },
  {
   "cell_type": "code",
   "execution_count": 21,
   "metadata": {},
   "outputs": [],
   "source": [
    "def train(network, epochs: int, learning_rate=1e-4, batch_size=100):\n",
    "    loss_nll = nn.NLLLoss()\n",
    "    loss_multi = nn.MultiLabelMarginLoss()\n",
    "    # loss_mse = nn.MSELoss()\n",
    "    \n",
    "    optimizer = torch.optim.Adam(network.parameters(), lr=learning_rate)\n",
    "    train_loss_epochs = []\n",
    "    test_loss_epochs = []\n",
    "    train_accuracy_epochs = []\n",
    "    test_accuracy_epochs = []\n",
    "    \n",
    "    try:\n",
    "        for epoch in range(epochs):\n",
    "\n",
    "            \n",
    "            # train\n",
    "            losses_pitch = []\n",
    "            losses_vel = []\n",
    "            accuracies_pitch = []\n",
    "            accuracies_vel = []\n",
    "            \n",
    "            for i, item in enumerate(train_ds):\n",
    "                frames, notes, _ = item\n",
    "                train_audio = AudioDataset(frames, notes)\n",
    "                train_audio_loader = DataLoader(train_audio, batch_size)\n",
    "                audio_iter = tqdm(train_audio_loader)\n",
    "                for X, y in audio_iter:\n",
    "                    pitch, vel = y\n",
    "                    network.zero_grad()\n",
    "\n",
    "                    # prediction = network.forward(X)\n",
    "                    pred_pitch, pred_vel = network.forward(X)\n",
    "\n",
    "                    loss_batch_pitch = loss_multi(pred_pitch, pitch)\n",
    "                    losses_pitch.append(loss_batch_pitch.item())\n",
    "                    loss_batch_pitch.backward()\n",
    "\n",
    "                    audio_iter.set_description(\"Epoch: %04d, Audio: %04d/%04d, Iter Loss: %.4f\"  %(epoch, i, len(train_ds), loss_batch_pitch))\n",
    "\n",
    "                    # loss_batch_vel = loss_nll(pred_vel, y[1])\n",
    "                    # losses_vel.append(loss_batch_vel.item())\n",
    "                    # loss_batch_vel.backward()\n",
    "\n",
    "                    optimizer.step()\n",
    "                    accuracies_pitch.append(corrected_f1_score(pred_pitch.detach().numpy(), pitch.detach().numpy()))\n",
    "                    # accuracies_pitch.append(losses_pitch[-1])\n",
    "                    # left count vel\n",
    "                    # accuracies_vel.append()\n",
    "\n",
    "            train_loss_epochs.append(np.mean(losses_pitch))\n",
    "            train_accuracy_epochs.append(np.mean(accuracies_pitch))\n",
    "\n",
    "            # test\n",
    "            losses = []\n",
    "            accuracies = []\n",
    "\n",
    "            for i, item in enumerate(test_ds):\n",
    "                frames, notes, _ = item\n",
    "                test_audio = AudioDataset(frames, notes)\n",
    "                test_audio_loader = DataLoader(test_audio, batch_size)\n",
    "                audio_iter = tqdm(test_audio_loader)\n",
    "                for X, y in audio_iter:\n",
    "                    pitch, vel = y\n",
    "\n",
    "                    # prediction = network.forward(X)\n",
    "                    pred_pitch, pred_vel = network.forward(X)\n",
    "\n",
    "                    loss_batch = loss_multi(pred_pitch, pitch)\n",
    "                    losses.append(loss_batch.item())\n",
    "\n",
    "                    audio_iter.set_description(\"Epoch: %04d, Audio: %04d/%04d, Iter Loss: %.4f\"  %(epoch, i, len(test_ds), loss_batch))\n",
    "\n",
    "                    accuracies.append(corrected_f1_score(pred_pitch.detach().numpy(), pitch.detach().numpy()))\n",
    "                    # accuracies.append(losses[-1])\n",
    "\n",
    "            test_loss_epochs.append(np.mean(losses))\n",
    "            test_accuracy_epochs.append(np.mean(accuracies))\n",
    "            \n",
    "            # output\n",
    "            clear_output(True)\n",
    "            print('\\rEpoch {0}... (Train/Test) NLL: {1:.3f}/{2:.3f}\\tAccuracy: {3:.3f}/{4:.3f}'.format(\n",
    "                        epoch, train_loss_epochs[-1], test_loss_epochs[-1],\n",
    "                        train_accuracy_epochs[-1], test_accuracy_epochs[-1]))\n",
    "            plt.figure(figsize=(12, 5))\n",
    "            plt.subplot(1, 2, 1)\n",
    "            plt.plot(train_loss_epochs, label='Train')\n",
    "            plt.plot(test_loss_epochs, label='Test')\n",
    "            plt.xlabel('Epochs', fontsize=16)\n",
    "            plt.ylabel('Loss', fontsize=16)\n",
    "            plt.legend(loc=0, fontsize=16)\n",
    "            plt.grid()\n",
    "            plt.subplot(1, 2, 2)\n",
    "            plt.plot(train_accuracy_epochs, label='Train accuracy')\n",
    "            plt.plot(test_accuracy_epochs, label='Test accuracy')\n",
    "            plt.xlabel('Epochs', fontsize=16)\n",
    "            plt.ylabel('Loss', fontsize=16)\n",
    "            plt.legend(loc=0, fontsize=16)\n",
    "            plt.grid()\n",
    "            plt.show()\n",
    "    except KeyboardInterrupt:\n",
    "        pass"
   ]
  },
  {
   "cell_type": "code",
   "execution_count": 22,
   "metadata": {},
   "outputs": [],
   "source": [
    "class DummyNet(nn.Module):\n",
    "    def __init__(self, frame_size: int) -> None:\n",
    "        super().__init__()\n",
    "\n",
    "        self.linear_layer_1 = nn.Sequential(\n",
    "            nn.Linear(frame_size, frame_size * 2),\n",
    "            nn.Dropout(0.3),\n",
    "            nn.ReLU(),\n",
    "            # nn.Linear(frame_size * 4, frame_size * 2),\n",
    "            # nn.Dropout(0.3),\n",
    "            # nn.ReLU(),\n",
    "            # nn.Linear(frame_size * 2, 129),\n",
    "            # nn.LogSoftmax(dim=1)\n",
    "        )\n",
    "\n",
    "        self.linear_layer_2 = nn.Sequential(\n",
    "            nn.Linear(frame_size * 2, 129),\n",
    "            nn.LogSoftmax(dim=1)\n",
    "        )\n",
    "\n",
    "        self.linear_num_pitch = nn.Sequential(\n",
    "            nn.Linear(frame_size * 2, 1)\n",
    "        )\n",
    "\n",
    "    def forward(self, x):\n",
    "        x = self.linear_layer_1(x)\n",
    "        pitch = self.linear_layer_2(x)\n",
    "        num_pitch = self.linear_num_pitch(x)\n",
    "\n",
    "        return x, 90, num_pitch"
   ]
  },
  {
   "cell_type": "code",
   "execution_count": 20,
   "metadata": {},
   "outputs": [
    {
     "name": "stderr",
     "output_type": "stream",
     "text": [
      "Epoch: 0000, Audio: 0000/0070, Iter Loss: 6.5355: 100%|██████████| 32/32 [00:08<00:00,  3.94it/s] \n",
      "Epoch: 0000, Audio: 0001/0070, Iter Loss: 3.8963: 100%|██████████| 32/32 [00:08<00:00,  3.96it/s] \n",
      "Epoch: 0000, Audio: 0002/0070, Iter Loss: 8.5899: 100%|██████████| 31/31 [00:07<00:00,  3.93it/s] \n",
      "Epoch: 0000, Audio: 0003/0070, Iter Loss: 3.9801: 100%|██████████| 50/50 [00:12<00:00,  3.96it/s] \n",
      "Epoch: 0000, Audio: 0004/0070, Iter Loss: 9.1574: 100%|██████████| 53/53 [00:13<00:00,  3.96it/s] \n",
      "Epoch: 0000, Audio: 0005/0070, Iter Loss: 2.9204: 100%|██████████| 50/50 [00:12<00:00,  3.95it/s] \n",
      "Epoch: 0000, Audio: 0006/0070, Iter Loss: 7.8878: 100%|██████████| 31/31 [00:07<00:00,  3.98it/s] \n",
      "Epoch: 0000, Audio: 0007/0070, Iter Loss: 4.0095: 100%|██████████| 38/38 [00:09<00:00,  4.01it/s] \n",
      "Epoch: 0000, Audio: 0008/0070, Iter Loss: 6.9381: 100%|██████████| 16/16 [00:03<00:00,  4.08it/s]\n",
      "Epoch: 0000, Audio: 0009/0070, Iter Loss: 1.9743: 100%|██████████| 14/14 [00:03<00:00,  4.18it/s]\n",
      "Epoch: 0000, Audio: 0010/0070, Iter Loss: 9.8602: 100%|██████████| 28/28 [00:07<00:00,  3.85it/s] \n",
      "Epoch: 0000, Audio: 0011/0070, Iter Loss: 0.6354: 100%|██████████| 14/14 [00:03<00:00,  4.08it/s]\n",
      "Epoch: 0000, Audio: 0012/0070, Iter Loss: 4.0131: 100%|██████████| 9/9 [00:02<00:00,  3.98it/s]\n"
     ]
    }
   ],
   "source": [
    "net = DummyNet(128)\n",
    "train(net, 20, 1e-5, 100)"
   ]
  },
  {
   "cell_type": "code",
   "execution_count": 45,
   "metadata": {},
   "outputs": [],
   "source": [
    "frames, notes, times = train_ds[37]\n",
    "midi_filename, _ = train_ds._data.iloc[37]\n",
    "ns = note_seq.midi_file_to_note_sequence(train_ds._root_path + midi_filename)"
   ]
  },
  {
   "cell_type": "code",
   "execution_count": 47,
   "metadata": {},
   "outputs": [
    {
     "data": {
      "text/plain": [
       "(array([128,  -1,  -1,  -1,  -1,  -1,  -1,  -1,  -1,  -1,  -1,  -1,  -1,\n",
       "         -1,  -1,  -1,  -1,  -1,  -1,  -1,  -1,  -1,  -1,  -1,  -1,  -1,\n",
       "         -1,  -1,  -1,  -1,  -1,  -1,  -1,  -1,  -1,  -1,  -1,  -1,  -1,\n",
       "         -1,  -1,  -1,  -1,  -1,  -1,  -1,  -1,  -1,  -1,  -1,  -1,  -1,\n",
       "         -1,  -1,  -1,  -1,  -1,  -1,  -1,  -1,  -1,  -1,  -1,  -1,  -1,\n",
       "         -1,  -1,  -1,  -1,  -1,  -1,  -1,  -1,  -1,  -1,  -1,  -1,  -1,\n",
       "         -1,  -1,  -1,  -1,  -1,  -1,  -1,  -1,  -1,  -1,  -1,  -1,  -1,\n",
       "         -1,  -1,  -1,  -1,  -1,  -1,  -1,  -1,  -1,  -1,  -1,  -1,  -1,\n",
       "         -1,  -1,  -1,  -1,  -1,  -1,  -1,  -1,  -1,  -1,  -1,  -1,  -1,\n",
       "         -1,  -1,  -1,  -1,  -1,  -1,  -1,  -1,  -1,  -1,  -1,  -1]),\n",
       " array([0, 0, 0, 0, 0, 0, 0, 0, 0, 0, 0, 0, 0, 0, 0, 0, 0, 0, 0, 0, 0, 0,\n",
       "        0, 0, 0, 0, 0, 0, 0, 0, 0, 0, 0, 0, 0, 0, 0, 0, 0, 0, 0, 0, 0, 0,\n",
       "        0, 0, 0, 0, 0, 0, 0, 0, 0, 0, 0, 0, 0, 0, 0, 0, 0, 0, 0, 0, 0, 0,\n",
       "        0, 0, 0, 0, 0, 0, 0, 0, 0, 0, 0, 0, 0, 0, 0, 0, 0, 0, 0, 0, 0, 0,\n",
       "        0, 0, 0, 0, 0, 0, 0, 0, 0, 0, 0, 0, 0, 0, 0, 0, 0, 0, 0, 0, 0, 0,\n",
       "        0, 0, 0, 0, 0, 0, 0, 0, 0, 0, 0, 0, 0, 0, 0, 0, 0, 0]))"
      ]
     },
     "execution_count": 47,
     "metadata": {},
     "output_type": "execute_result"
    }
   ],
   "source": [
    "notes[0]"
   ]
  },
  {
   "cell_type": "code",
   "execution_count": 31,
   "metadata": {},
   "outputs": [],
   "source": [
    "frames_reshaped = torch.Tensor(frames.reshape(-1, 128))"
   ]
  },
  {
   "cell_type": "code",
   "execution_count": 32,
   "metadata": {},
   "outputs": [
    {
     "data": {
      "text/plain": [
       "torch.Size([24094, 128])"
      ]
     },
     "execution_count": 32,
     "metadata": {},
     "output_type": "execute_result"
    }
   ],
   "source": [
    "frames_reshaped.shape"
   ]
  },
  {
   "cell_type": "code",
   "execution_count": 33,
   "metadata": {},
   "outputs": [],
   "source": [
    "pred_pitch, pred_vel = net(frames_reshaped)"
   ]
  },
  {
   "cell_type": "code",
   "execution_count": 34,
   "metadata": {},
   "outputs": [
    {
     "data": {
      "text/plain": [
       "torch.Size([24094, 129])"
      ]
     },
     "execution_count": 34,
     "metadata": {},
     "output_type": "execute_result"
    }
   ],
   "source": [
    "pred_pitch.shape"
   ]
  },
  {
   "cell_type": "code",
   "execution_count": 35,
   "metadata": {},
   "outputs": [],
   "source": [
    "def decode_predict(pitches, vels):\n",
    "    notes = []\n",
    "    pitches = pitches.detach()\n",
    "    softmax = nn.Softmax(dim=1)\n",
    "    pitches = softmax(pitches).numpy()\n",
    "    for pitch in pitches:\n",
    "        pred_size = (pitch >= pitch[128]).sum()\n",
    "        # pred_size = 5\n",
    "        pitch = np.argsort(pitch)[::-1][:pred_size]\n",
    "        vel = np.full_like(pitch, vels)\n",
    "\n",
    "        notes.append((pitch, vel))\n",
    "    return notes"
   ]
  },
  {
   "cell_type": "code",
   "execution_count": 36,
   "metadata": {},
   "outputs": [],
   "source": [
    "pred_notes = decode_predict(pred_pitch, pred_vel)"
   ]
  },
  {
   "cell_type": "code",
   "execution_count": null,
   "metadata": {},
   "outputs": [],
   "source": [
    "import bokeh\n",
    "\n",
    "fig = note_seq.plot_sequence(ns, False)\n",
    "fig_proc = note_seq.plot_sequence(detokenize(pred_notes, times, audio_params.frame_time), False)\n",
    "\n",
    "fig.height = 500\n",
    "fig_proc.height = 500\n",
    "fig.width = 1500\n",
    "fig_proc.width = 1500\n",
    "\n",
    "bokeh.plotting.output_notebook()\n",
    "bokeh.plotting.show(fig)\n",
    "bokeh.plotting.show(fig_proc)"
   ]
  },
  {
   "cell_type": "markdown",
   "metadata": {},
   "source": [
    "### Conv2D"
   ]
  },
  {
   "cell_type": "code",
   "execution_count": 5,
   "metadata": {},
   "outputs": [],
   "source": [
    "#constants\n",
    "image_size = (28, 28)\n",
    "conv1 = 32\n",
    "conv2 = 64\n",
    "\n",
    "# conv_nn\n",
    "class ConvTwoD(nn.Module):\n",
    "    def __init__(self, image_size: Tuple[int, int],\n",
    "        conv1=conv1, conv2=conv2\n",
    "    ):\n",
    "        super(ConvTwoD, self).__init__()\n",
    "        self.conv_layers1 = nn.Sequential(\n",
    "            nn.Conv2d(1, conv1, kernel_size=(5,5), stride=(1,1)),\n",
    "            nn.Tanh(),\n",
    "            nn.Dropout(0.5),\n",
    "            nn.MaxPool2d(kernel_size=(2,2), stride=(2,2))\n",
    "        )\n",
    "        \n",
    "        self.conv_layers2 = nn.Sequential(\n",
    "            nn.Conv2d(conv1, conv2, kernel_size=(3,3), stride=(2,2)),\n",
    "            nn.Tanh(),\n",
    "            nn.Dropout(0.5),\n",
    "            nn.MaxPool2d(kernel_size=(2,2))\n",
    "        )\n",
    "        \n",
    "        self.linear_velocity = nn.Sequential(\n",
    "            nn.Linear(\n",
    "                conv2 * image_size[0]//2 * image_size[1]//2,\n",
    "                128\n",
    "            ),\n",
    "            nn.LogSoftmax(dim=1)\n",
    "        )\n",
    "\n",
    "        self.linear_pitch = nn.Sequential(\n",
    "            nn.Linear(\n",
    "                conv2 * image_size[0]//2 * image_size[1]//2,\n",
    "                128\n",
    "            ),\n",
    "            nn.LogSoftmax(dim=1)\n",
    "        )\n",
    "    \n",
    "    def forward(self, x):\n",
    "#         print(\"======\")\n",
    "#         print(x.shape)\n",
    "        x = self.conv_layers1(x)\n",
    "#         print(x.shape)\n",
    "        x = self.conv_layers2(x)\n",
    "#         print(x.shape)\n",
    "        x = x.view(x.size(0), -1)\n",
    "#         print(x.shape)\n",
    "        pitch = self.linear_pitch(x)\n",
    "        velocity = self.linear_velocity(x)\n",
    "        \n",
    "        return pitch, velocity"
   ]
  },
  {
   "cell_type": "markdown",
   "metadata": {},
   "source": [
    "### Conv1D"
   ]
  },
  {
   "cell_type": "code",
   "execution_count": 6,
   "metadata": {},
   "outputs": [],
   "source": [
    "#constants\n",
    "frame_size = 128\n",
    "conv1 = 32\n",
    "conv2 = 64\n",
    "\n",
    "# conv_nn\n",
    "class ConvOneD(nn.Module):\n",
    "    def __init__(self, frame_size: List[int],\n",
    "        conv1=conv1, conv2=conv2\n",
    "    ):\n",
    "        super(ConvOneD, self).__init__()\n",
    "        self.conv_layers1 = nn.Sequential(\n",
    "            # nn.Conv2d(1, conv1, kernel_size=(5,5), stride=(1,1)),\n",
    "            nn.Tanh(),\n",
    "            nn.Dropout(0.5),\n",
    "            nn.MaxPool2d(kernel_size=2, stride=2)\n",
    "        )\n",
    "        \n",
    "        self.conv_layers2 = nn.Sequential(\n",
    "            # nn.Conv2d(conv1, conv2, kernel_size=(3,3), stride=(2,2)),\n",
    "            nn.Tanh(),\n",
    "            nn.Dropout(0.5),\n",
    "            nn.MaxPool2d(kernel_size=2, stride=2)\n",
    "        )\n",
    "        \n",
    "        self.linear_velocity = nn.Sequential(\n",
    "            nn.Linear(\n",
    "                conv2 * frame_size,\n",
    "                128\n",
    "            ),\n",
    "            nn.LogSoftmax(dim=1)\n",
    "        )\n",
    "\n",
    "        self.linear_pitch = nn.Sequential(\n",
    "            nn.Linear(\n",
    "                conv2 * frame_size,\n",
    "                128\n",
    "            ),\n",
    "            nn.LogSoftmax(dim=1)\n",
    "        )\n",
    "\n",
    "        self.linear_num_pitch = nn.Sequential(\n",
    "            nn.Linear(\n",
    "                conv2 * frame_size,\n",
    "                1\n",
    "            )\n",
    "        )\n",
    "    \n",
    "    def forward(self, x):\n",
    "#         print(\"======\")\n",
    "#         print(x.shape)\n",
    "        x = convolve(x, 5, mode=\"same\")\n",
    "        x = self.conv_layers1(x)\n",
    "#         print(x.shape)\n",
    "        x = convolve(x, 5, mode=\"same\")\n",
    "        # x = self.conv_layers2(x)\n",
    "#         print(x.shape)\n",
    "        x = x.view(x.size(0), -1)\n",
    "#         print(x.shape)\n",
    "        num_pitch = self.linear_num_pitch(x)\n",
    "        pitch = self.linear_pitch(x)\n",
    "        velocity = self.linear_velocity(x)\n",
    "        \n",
    "        return pitch, velocity, num_pitch"
   ]
  },
  {
   "cell_type": "code",
   "execution_count": null,
   "metadata": {},
   "outputs": [],
   "source": []
  },
  {
   "cell_type": "code",
   "execution_count": null,
   "metadata": {},
   "outputs": [],
   "source": [
    "network1 = Conv(image_size=image_size)\n",
    "train(network1, 5)"
   ]
  }
 ],
 "metadata": {
  "kernelspec": {
   "display_name": "Python 3",
   "language": "python",
   "name": "python3"
  },
  "language_info": {
   "codemirror_mode": {
    "name": "ipython",
    "version": 3
   },
   "file_extension": ".py",
   "mimetype": "text/x-python",
   "name": "python",
   "nbconvert_exporter": "python",
   "pygments_lexer": "ipython3",
   "version": "3.8.10"
  },
  "orig_nbformat": 4,
  "vscode": {
   "interpreter": {
    "hash": "e7370f93d1d0cde622a1f8e1c04877d8463912d04d973331ad4851f04de6915a"
   }
  }
 },
 "nbformat": 4,
 "nbformat_minor": 2
}
