{
 "cells": [
  {
   "cell_type": "code",
   "execution_count": 2,
   "metadata": {},
   "outputs": [
    {
     "name": "stderr",
     "output_type": "stream",
     "text": [
      "/home/sibwa19/documents/main_course/second/project/MusicTranscription/.venv/lib/python3.8/site-packages/tqdm/auto.py:22: TqdmWarning: IProgress not found. Please update jupyter and ipywidgets. See https://ipywidgets.readthedocs.io/en/stable/user_install.html\n",
      "  from .autonotebook import tqdm as notebook_tqdm\n"
     ]
    }
   ],
   "source": [
    "import numpy as np\n",
    "#from sklearn.datasets import fetch_mldata\n",
    "#from sklearn.model_selection import train_test_split\n",
    "from scipy.signal import convolve2d, convolve\n",
    "import torch\n",
    "from torch import nn\n",
    "from torch.autograd import Variable\n",
    "import matplotlib.pyplot as plt\n",
    "from torch.utils.data import DataLoader\n",
    "# from torchvision.datasets import MNIST\n",
    "# from torchvision import transforms\n",
    "from IPython.display import clear_output\n",
    "from typing import Tuple\n",
    "%matplotlib inline"
   ]
  },
  {
   "cell_type": "code",
   "execution_count": 22,
   "metadata": {},
   "outputs": [
    {
     "data": {
      "text/plain": [
       "array([[ True, False, False, False],\n",
       "       [ True,  True, False, False]])"
      ]
     },
     "execution_count": 22,
     "metadata": {},
     "output_type": "execute_result"
    }
   ],
   "source": [
    "vel = np.array([\n",
    "    [3, 2, 5, 1],\n",
    "    [1, 2, 0, 3]\n",
    "]).astype(float)\n",
    "\n",
    "pitch = np.array([\n",
    "    [3, -1, -1, -1],\n",
    "    [1, 0, -1, -1]\n",
    "]).astype(float)\n",
    "\n",
    "# vel[pitch != -1].mean()\n",
    "# pitch[pitch != -1]\n",
    "pitch != -1\n"
   ]
  },
  {
   "cell_type": "code",
   "execution_count": 6,
   "metadata": {},
   "outputs": [
    {
     "data": {
      "text/plain": [
       "0.3333333333333333"
      ]
     },
     "execution_count": 6,
     "metadata": {},
     "output_type": "execute_result"
    }
   ],
   "source": [
    "pred = np.array([\n",
    "    [0.1, 0.2, 0.5, 0.6],\n",
    "    [0.25, 0.15, 0.65, 0.6]\n",
    "])\n",
    "y = np.array([\n",
    "    [3, -1, -1, -1],\n",
    "    [1, 0, -1, -1]\n",
    "])\n",
    "\n",
    "def batch_accuracy(X: np.ndarray, y: np.ndarray):\n",
    "    accuracy = []\n",
    "    cnt = 0\n",
    "    success = 0\n",
    "\n",
    "    X = np.argsort(pred, axis=1)[::, ::-1]\n",
    "    y_cp = np.copy(y)\n",
    "\n",
    "    for i in np.arange(X.shape[0]):\n",
    "        break_point = y_cp[i].tolist().index(-1)\n",
    "        for j in np.arange(break_point):\n",
    "            if y_cp[i][j] in X[i][:break_point]:\n",
    "                success += 1\n",
    "            cnt += 1\n",
    "    \n",
    "    return success / cnt\n",
    "\n",
    "lst = batch_accuracy(pred, y)\n",
    "lst"
   ]
  },
  {
   "cell_type": "code",
   "execution_count": 4,
   "metadata": {},
   "outputs": [],
   "source": [
    "def train(network, epochs: int, learning_rate=1e-4):\n",
    "    loss_nll = nn.NLLLoss()\n",
    "    loss_multi = nn.MultiLabelMarginLoss()\n",
    "    # loss_mse = nn.MSELoss()\n",
    "    \n",
    "    optimizer = torch.optim.Adam(network.parameters(), lr=learning_rate)\n",
    "    train_loss_epochs = []\n",
    "    test_loss_epochs = []\n",
    "    train_accuracy_epochs = []\n",
    "    test_accuracy_epochs = []\n",
    "    \n",
    "    try:\n",
    "        for epoch in range(epochs):\n",
    "\n",
    "            # train \n",
    "            losses_pitch = []\n",
    "            losses_vel = []\n",
    "            accuracies_pitch = []\n",
    "            accuracies_vel = []\n",
    "            for X, y in train_loader:\n",
    "                network.zero_grad()\n",
    "                # prediction = network.forward(X)\n",
    "                pred_pitch, pred_vel = network.forward(X)\n",
    "\n",
    "                loss_batch_pitch = loss_multi(pred_pitch, y[0])\n",
    "                losses_pitch.append(loss_batch_pitch.item())\n",
    "                loss_batch_pitch.backward()\n",
    "\n",
    "                loss_batch_vel = loss_nll(pred_vel, y[1])\n",
    "                losses_vel.append(loss_batch_vel.item())\n",
    "                loss_batch_vel.backward()\n",
    "\n",
    "                optimizer.step()\n",
    "                accuracies_pitch.append(batch_accuracy(pred_pitch, y[0]))\n",
    "                # left count vel\n",
    "                accuracies_vel.append()\n",
    "\n",
    "            train_loss_epochs.append(np.mean(losses_pitch))\n",
    "            train_accuracy_epochs.append(np.mean(accuracies))\n",
    "\n",
    "            # test\n",
    "            losses = []\n",
    "            accuracies = []    \n",
    "            for X, y in test_loader:\n",
    "                prediction = network.forward(X)\n",
    "                loss_batch = loss_nll(prediction, y)\n",
    "                losses.append(loss_batch.item())\n",
    "                accuracies.append((np.argmax(prediction.data.numpy(), 1)==y.data.numpy()).mean())\n",
    "            test_loss_epochs.append(np.mean(losses))\n",
    "            test_accuracy_epochs.append(np.mean(accuracies))\n",
    "            \n",
    "            # output\n",
    "            clear_output(True)\n",
    "            print('\\rEpoch {0}... (Train/Test) NLL: {1:.3f}/{2:.3f}\\tAccuracy: {3:.3f}/{4:.3f}'.format(\n",
    "                        epoch, train_loss_epochs[-1], test_loss_epochs[-1],\n",
    "                        train_accuracy_epochs[-1], test_accuracy_epochs[-1]))\n",
    "            plt.figure(figsize=(12, 5))\n",
    "            plt.subplot(1, 2, 1)\n",
    "            plt.plot(train_loss_epochs, label='Train')\n",
    "            plt.plot(test_loss_epochs, label='Test')\n",
    "            plt.xlabel('Epochs', fontsize=16)\n",
    "            plt.ylabel('Loss', fontsize=16)\n",
    "            plt.legend(loc=0, fontsize=16)\n",
    "            plt.grid()\n",
    "            plt.subplot(1, 2, 2)\n",
    "            plt.plot(train_accuracy_epochs, label='Train accuracy')\n",
    "            plt.plot(test_accuracy_epochs, label='Test accuracy')\n",
    "            plt.xlabel('Epochs', fontsize=16)\n",
    "            plt.ylabel('Loss', fontsize=16)\n",
    "            plt.legend(loc=0, fontsize=16)\n",
    "            plt.grid()\n",
    "            plt.show()\n",
    "    except KeyboardInterrupt:\n",
    "        pass"
   ]
  },
  {
   "cell_type": "code",
   "execution_count": null,
   "metadata": {},
   "outputs": [],
   "source": []
  },
  {
   "cell_type": "code",
   "execution_count": null,
   "metadata": {},
   "outputs": [],
   "source": []
  },
  {
   "cell_type": "markdown",
   "metadata": {},
   "source": [
    "### Conv2D"
   ]
  },
  {
   "cell_type": "code",
   "execution_count": 5,
   "metadata": {},
   "outputs": [],
   "source": [
    "#constants\n",
    "image_size = (28, 28)\n",
    "conv1 = 32\n",
    "conv2 = 64\n",
    "\n",
    "# conv_nn\n",
    "class ConvTwoD(nn.Module):\n",
    "    def __init__(self, image_size: Tuple[int, int],\n",
    "        conv1=conv1, conv2=conv2\n",
    "    ):\n",
    "        super(ConvTwoD, self).__init__()\n",
    "        self.conv_layers1 = nn.Sequential(\n",
    "            nn.Conv2d(1, conv1, kernel_size=(5,5), stride=(1,1)),\n",
    "            nn.Tanh(),\n",
    "            nn.Dropout(0.5),\n",
    "            nn.MaxPool2d(kernel_size=(2,2), stride=(2,2))\n",
    "        )\n",
    "        \n",
    "        self.conv_layers2 = nn.Sequential(\n",
    "            nn.Conv2d(conv1, conv2, kernel_size=(3,3), stride=(2,2)),\n",
    "            nn.Tanh(),\n",
    "            nn.Dropout(0.5),\n",
    "            nn.MaxPool2d(kernel_size=(2,2))\n",
    "        )\n",
    "        \n",
    "        self.linear_velocity = nn.Sequential(\n",
    "            nn.Linear(\n",
    "                conv2 * image_size[0]//2 * image_size[1]//2,\n",
    "                128\n",
    "            ),\n",
    "            nn.LogSoftmax(dim=1)\n",
    "        )\n",
    "\n",
    "        self.linear_pitch = nn.Sequential(\n",
    "            nn.Linear(\n",
    "                conv2 * image_size[0]//2 * image_size[1]//2,\n",
    "                128\n",
    "            ),\n",
    "            nn.LogSoftmax(dim=1)\n",
    "        )\n",
    "    \n",
    "    def forward(self, x):\n",
    "#         print(\"======\")\n",
    "#         print(x.shape)\n",
    "        x = self.conv_layers1(x)\n",
    "#         print(x.shape)\n",
    "        x = self.conv_layers2(x)\n",
    "#         print(x.shape)\n",
    "        x = x.view(x.size(0), -1)\n",
    "#         print(x.shape)\n",
    "        pitch = self.linear_pitch(x)\n",
    "        velocity = self.linear_velocity(x)\n",
    "        \n",
    "        return pitch, velocity"
   ]
  },
  {
   "cell_type": "markdown",
   "metadata": {},
   "source": [
    "### Conv1D"
   ]
  },
  {
   "cell_type": "code",
   "execution_count": 6,
   "metadata": {},
   "outputs": [],
   "source": [
    "#constants\n",
    "image_size = 28\n",
    "conv1 = 32\n",
    "conv2 = 64\n",
    "\n",
    "# conv_nn\n",
    "class ConvOneD(nn.Module):\n",
    "    def __init__(self, image_size: Tuple[int, int],\n",
    "        conv1=conv1, conv2=conv2\n",
    "    ):\n",
    "        super(ConvOneD, self).__init__()\n",
    "        self.conv_layers1 = nn.Sequential(\n",
    "            # nn.Conv2d(1, conv1, kernel_size=(5,5), stride=(1,1)),\n",
    "            nn.Tanh(),\n",
    "            nn.Dropout(0.5),\n",
    "            nn.MaxPool2d(kernel_size=2, stride=2)\n",
    "        )\n",
    "        \n",
    "        self.conv_layers2 = nn.Sequential(\n",
    "            # nn.Conv2d(conv1, conv2, kernel_size=(3,3), stride=(2,2)),\n",
    "            nn.Tanh(),\n",
    "            nn.Dropout(0.5),\n",
    "            nn.MaxPool2d(kernel_size=2, stride=2)\n",
    "        )\n",
    "        \n",
    "        self.linear_velocity = nn.Sequential(\n",
    "            nn.Linear(\n",
    "                conv2 * image_size,\n",
    "                128\n",
    "            ),\n",
    "            nn.LogSoftmax(dim=1)\n",
    "        )\n",
    "\n",
    "        self.linear_pitch = nn.Sequential(\n",
    "            nn.Linear(\n",
    "                conv2 * image_size,\n",
    "                128\n",
    "            ),\n",
    "            nn.LogSoftmax(dim=1)\n",
    "        )\n",
    "    \n",
    "    def forward(self, x):\n",
    "#         print(\"======\")\n",
    "#         print(x.shape)\n",
    "        x = convolve(x, 5, mode=\"same\")\n",
    "        x = self.conv_layers1(x)\n",
    "#         print(x.shape)\n",
    "        x = convolve(x, 5, mode=\"same\")\n",
    "        # x = self.conv_layers2(x)\n",
    "#         print(x.shape)\n",
    "        x = x.view(x.size(0), -1)\n",
    "#         print(x.shape)\n",
    "        pitch = self.linear_pitch(x)\n",
    "        velocity = self.linear_velocity(x)\n",
    "        \n",
    "        return pitch, velocity"
   ]
  },
  {
   "cell_type": "code",
   "execution_count": null,
   "metadata": {},
   "outputs": [],
   "source": []
  },
  {
   "cell_type": "code",
   "execution_count": null,
   "metadata": {},
   "outputs": [],
   "source": [
    "network1 = Conv(image_size=image_size)\n",
    "train(network1, 5)"
   ]
  }
 ],
 "metadata": {
  "kernelspec": {
   "display_name": "Python 3.8.10 ('.venv': venv)",
   "language": "python",
   "name": "python3"
  },
  "language_info": {
   "codemirror_mode": {
    "name": "ipython",
    "version": 3
   },
   "file_extension": ".py",
   "mimetype": "text/x-python",
   "name": "python",
   "nbconvert_exporter": "python",
   "pygments_lexer": "ipython3",
   "version": "3.8.10"
  },
  "orig_nbformat": 4,
  "vscode": {
   "interpreter": {
    "hash": "5b46d9087df5f64e4c0ede7fffb89a5cd344dc6a2d6e7400fc964093bc35f3d9"
   }
  }
 },
 "nbformat": 4,
 "nbformat_minor": 2
}
